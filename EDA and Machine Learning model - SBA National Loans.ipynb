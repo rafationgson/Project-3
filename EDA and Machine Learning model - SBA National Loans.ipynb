{
 "cells": [
  {
   "cell_type": "markdown",
   "metadata": {},
   "source": [
    "## Import Necessary libraries"
   ]
  },
  {
   "cell_type": "code",
   "execution_count": 1,
   "metadata": {},
   "outputs": [],
   "source": [
    "import pandas as pd\n",
    "import numpy as np\n",
    "import matplotlib.pyplot as plt\n",
    "import seaborn as sns\n",
    "import missingno as msno\n",
    "%matplotlib inline"
   ]
  },
  {
   "cell_type": "code",
   "execution_count": 2,
   "metadata": {},
   "outputs": [
    {
     "name": "stderr",
     "output_type": "stream",
     "text": [
      "/opt/anaconda3/lib/python3.8/site-packages/IPython/core/interactiveshell.py:3071: DtypeWarning: Columns (9) have mixed types.Specify dtype option on import or set low_memory=False.\n",
      "  has_raised = await self.run_ast_nodes(code_ast.body, cell_name,\n"
     ]
    },
    {
     "data": {
      "text/html": [
       "<div>\n",
       "<style scoped>\n",
       "    .dataframe tbody tr th:only-of-type {\n",
       "        vertical-align: middle;\n",
       "    }\n",
       "\n",
       "    .dataframe tbody tr th {\n",
       "        vertical-align: top;\n",
       "    }\n",
       "\n",
       "    .dataframe thead th {\n",
       "        text-align: right;\n",
       "    }\n",
       "</style>\n",
       "<table border=\"1\" class=\"dataframe\">\n",
       "  <thead>\n",
       "    <tr style=\"text-align: right;\">\n",
       "      <th></th>\n",
       "      <th>LoanNr_ChkDgt</th>\n",
       "      <th>Name</th>\n",
       "      <th>City</th>\n",
       "      <th>State</th>\n",
       "      <th>Zip</th>\n",
       "      <th>Bank</th>\n",
       "      <th>BankState</th>\n",
       "      <th>NAICS</th>\n",
       "      <th>ApprovalDate</th>\n",
       "      <th>ApprovalFY</th>\n",
       "      <th>...</th>\n",
       "      <th>RevLineCr</th>\n",
       "      <th>LowDoc</th>\n",
       "      <th>ChgOffDate</th>\n",
       "      <th>DisbursementDate</th>\n",
       "      <th>DisbursementGross</th>\n",
       "      <th>BalanceGross</th>\n",
       "      <th>MIS_Status</th>\n",
       "      <th>ChgOffPrinGr</th>\n",
       "      <th>GrAppv</th>\n",
       "      <th>SBA_Appv</th>\n",
       "    </tr>\n",
       "  </thead>\n",
       "  <tbody>\n",
       "    <tr>\n",
       "      <th>0</th>\n",
       "      <td>1000014003</td>\n",
       "      <td>ABC HOBBYCRAFT</td>\n",
       "      <td>EVANSVILLE</td>\n",
       "      <td>IN</td>\n",
       "      <td>47711</td>\n",
       "      <td>FIFTH THIRD BANK</td>\n",
       "      <td>OH</td>\n",
       "      <td>451120</td>\n",
       "      <td>28-Feb-97</td>\n",
       "      <td>1997</td>\n",
       "      <td>...</td>\n",
       "      <td>N</td>\n",
       "      <td>Y</td>\n",
       "      <td>NaN</td>\n",
       "      <td>28-Feb-99</td>\n",
       "      <td>$60,000.00</td>\n",
       "      <td>$0.00</td>\n",
       "      <td>P I F</td>\n",
       "      <td>$0.00</td>\n",
       "      <td>$60,000.00</td>\n",
       "      <td>$48,000.00</td>\n",
       "    </tr>\n",
       "    <tr>\n",
       "      <th>1</th>\n",
       "      <td>1000024006</td>\n",
       "      <td>LANDMARK BAR &amp; GRILLE (THE)</td>\n",
       "      <td>NEW PARIS</td>\n",
       "      <td>IN</td>\n",
       "      <td>46526</td>\n",
       "      <td>1ST SOURCE BANK</td>\n",
       "      <td>IN</td>\n",
       "      <td>722410</td>\n",
       "      <td>28-Feb-97</td>\n",
       "      <td>1997</td>\n",
       "      <td>...</td>\n",
       "      <td>N</td>\n",
       "      <td>Y</td>\n",
       "      <td>NaN</td>\n",
       "      <td>31-May-97</td>\n",
       "      <td>$40,000.00</td>\n",
       "      <td>$0.00</td>\n",
       "      <td>P I F</td>\n",
       "      <td>$0.00</td>\n",
       "      <td>$40,000.00</td>\n",
       "      <td>$32,000.00</td>\n",
       "    </tr>\n",
       "    <tr>\n",
       "      <th>2</th>\n",
       "      <td>1000034009</td>\n",
       "      <td>WHITLOCK DDS, TODD M.</td>\n",
       "      <td>BLOOMINGTON</td>\n",
       "      <td>IN</td>\n",
       "      <td>47401</td>\n",
       "      <td>GRANT COUNTY STATE BANK</td>\n",
       "      <td>IN</td>\n",
       "      <td>621210</td>\n",
       "      <td>28-Feb-97</td>\n",
       "      <td>1997</td>\n",
       "      <td>...</td>\n",
       "      <td>N</td>\n",
       "      <td>N</td>\n",
       "      <td>NaN</td>\n",
       "      <td>31-Dec-97</td>\n",
       "      <td>$287,000.00</td>\n",
       "      <td>$0.00</td>\n",
       "      <td>P I F</td>\n",
       "      <td>$0.00</td>\n",
       "      <td>$287,000.00</td>\n",
       "      <td>$215,250.00</td>\n",
       "    </tr>\n",
       "    <tr>\n",
       "      <th>3</th>\n",
       "      <td>1000044001</td>\n",
       "      <td>BIG BUCKS PAWN &amp; JEWELRY, LLC</td>\n",
       "      <td>BROKEN ARROW</td>\n",
       "      <td>OK</td>\n",
       "      <td>74012</td>\n",
       "      <td>1ST NATL BK &amp; TR CO OF BROKEN</td>\n",
       "      <td>OK</td>\n",
       "      <td>0</td>\n",
       "      <td>28-Feb-97</td>\n",
       "      <td>1997</td>\n",
       "      <td>...</td>\n",
       "      <td>N</td>\n",
       "      <td>Y</td>\n",
       "      <td>NaN</td>\n",
       "      <td>30-Jun-97</td>\n",
       "      <td>$35,000.00</td>\n",
       "      <td>$0.00</td>\n",
       "      <td>P I F</td>\n",
       "      <td>$0.00</td>\n",
       "      <td>$35,000.00</td>\n",
       "      <td>$28,000.00</td>\n",
       "    </tr>\n",
       "    <tr>\n",
       "      <th>4</th>\n",
       "      <td>1000054004</td>\n",
       "      <td>ANASTASIA CONFECTIONS, INC.</td>\n",
       "      <td>ORLANDO</td>\n",
       "      <td>FL</td>\n",
       "      <td>32801</td>\n",
       "      <td>FLORIDA BUS. DEVEL CORP</td>\n",
       "      <td>FL</td>\n",
       "      <td>0</td>\n",
       "      <td>28-Feb-97</td>\n",
       "      <td>1997</td>\n",
       "      <td>...</td>\n",
       "      <td>N</td>\n",
       "      <td>N</td>\n",
       "      <td>NaN</td>\n",
       "      <td>14-May-97</td>\n",
       "      <td>$229,000.00</td>\n",
       "      <td>$0.00</td>\n",
       "      <td>P I F</td>\n",
       "      <td>$0.00</td>\n",
       "      <td>$229,000.00</td>\n",
       "      <td>$229,000.00</td>\n",
       "    </tr>\n",
       "  </tbody>\n",
       "</table>\n",
       "<p>5 rows × 27 columns</p>\n",
       "</div>"
      ],
      "text/plain": [
       "   LoanNr_ChkDgt                           Name          City State    Zip  \\\n",
       "0     1000014003                 ABC HOBBYCRAFT    EVANSVILLE    IN  47711   \n",
       "1     1000024006    LANDMARK BAR & GRILLE (THE)     NEW PARIS    IN  46526   \n",
       "2     1000034009          WHITLOCK DDS, TODD M.   BLOOMINGTON    IN  47401   \n",
       "3     1000044001  BIG BUCKS PAWN & JEWELRY, LLC  BROKEN ARROW    OK  74012   \n",
       "4     1000054004    ANASTASIA CONFECTIONS, INC.       ORLANDO    FL  32801   \n",
       "\n",
       "                            Bank BankState   NAICS ApprovalDate ApprovalFY  \\\n",
       "0               FIFTH THIRD BANK        OH  451120    28-Feb-97       1997   \n",
       "1                1ST SOURCE BANK        IN  722410    28-Feb-97       1997   \n",
       "2        GRANT COUNTY STATE BANK        IN  621210    28-Feb-97       1997   \n",
       "3  1ST NATL BK & TR CO OF BROKEN        OK       0    28-Feb-97       1997   \n",
       "4        FLORIDA BUS. DEVEL CORP        FL       0    28-Feb-97       1997   \n",
       "\n",
       "   ...  RevLineCr  LowDoc  ChgOffDate  DisbursementDate  DisbursementGross  \\\n",
       "0  ...          N       Y         NaN         28-Feb-99        $60,000.00    \n",
       "1  ...          N       Y         NaN         31-May-97        $40,000.00    \n",
       "2  ...          N       N         NaN         31-Dec-97       $287,000.00    \n",
       "3  ...          N       Y         NaN         30-Jun-97        $35,000.00    \n",
       "4  ...          N       N         NaN         14-May-97       $229,000.00    \n",
       "\n",
       "   BalanceGross  MIS_Status ChgOffPrinGr        GrAppv      SBA_Appv  \n",
       "0        $0.00        P I F       $0.00    $60,000.00    $48,000.00   \n",
       "1        $0.00        P I F       $0.00    $40,000.00    $32,000.00   \n",
       "2        $0.00        P I F       $0.00   $287,000.00   $215,250.00   \n",
       "3        $0.00        P I F       $0.00    $35,000.00    $28,000.00   \n",
       "4        $0.00        P I F       $0.00   $229,000.00   $229,000.00   \n",
       "\n",
       "[5 rows x 27 columns]"
      ]
     },
     "execution_count": 2,
     "metadata": {},
     "output_type": "execute_result"
    }
   ],
   "source": [
    "df = pd.read_csv('Desktop/Datasets/SBAnational.csv')\n",
    "df.head()"
   ]
  },
  {
   "cell_type": "code",
   "execution_count": 3,
   "metadata": {},
   "outputs": [
    {
     "name": "stdout",
     "output_type": "stream",
     "text": [
      "<class 'pandas.core.frame.DataFrame'>\n",
      "RangeIndex: 899164 entries, 0 to 899163\n",
      "Data columns (total 27 columns):\n",
      " #   Column             Non-Null Count   Dtype  \n",
      "---  ------             --------------   -----  \n",
      " 0   LoanNr_ChkDgt      899164 non-null  int64  \n",
      " 1   Name               899150 non-null  object \n",
      " 2   City               899134 non-null  object \n",
      " 3   State              899150 non-null  object \n",
      " 4   Zip                899164 non-null  int64  \n",
      " 5   Bank               897605 non-null  object \n",
      " 6   BankState          897598 non-null  object \n",
      " 7   NAICS              899164 non-null  int64  \n",
      " 8   ApprovalDate       899164 non-null  object \n",
      " 9   ApprovalFY         899164 non-null  object \n",
      " 10  Term               899164 non-null  int64  \n",
      " 11  NoEmp              899164 non-null  int64  \n",
      " 12  NewExist           899028 non-null  float64\n",
      " 13  CreateJob          899164 non-null  int64  \n",
      " 14  RetainedJob        899164 non-null  int64  \n",
      " 15  FranchiseCode      899164 non-null  int64  \n",
      " 16  UrbanRural         899164 non-null  int64  \n",
      " 17  RevLineCr          894636 non-null  object \n",
      " 18  LowDoc             896582 non-null  object \n",
      " 19  ChgOffDate         162699 non-null  object \n",
      " 20  DisbursementDate   896796 non-null  object \n",
      " 21  DisbursementGross  899164 non-null  object \n",
      " 22  BalanceGross       899164 non-null  object \n",
      " 23  MIS_Status         897167 non-null  object \n",
      " 24  ChgOffPrinGr       899164 non-null  object \n",
      " 25  GrAppv             899164 non-null  object \n",
      " 26  SBA_Appv           899164 non-null  object \n",
      "dtypes: float64(1), int64(9), object(17)\n",
      "memory usage: 185.2+ MB\n"
     ]
    }
   ],
   "source": [
    "df.info()"
   ]
  },
  {
   "cell_type": "code",
   "execution_count": 4,
   "metadata": {},
   "outputs": [
    {
     "data": {
      "text/html": [
       "<div>\n",
       "<style scoped>\n",
       "    .dataframe tbody tr th:only-of-type {\n",
       "        vertical-align: middle;\n",
       "    }\n",
       "\n",
       "    .dataframe tbody tr th {\n",
       "        vertical-align: top;\n",
       "    }\n",
       "\n",
       "    .dataframe thead th {\n",
       "        text-align: right;\n",
       "    }\n",
       "</style>\n",
       "<table border=\"1\" class=\"dataframe\">\n",
       "  <thead>\n",
       "    <tr style=\"text-align: right;\">\n",
       "      <th></th>\n",
       "      <th>LoanNr_ChkDgt</th>\n",
       "      <th>Zip</th>\n",
       "      <th>NAICS</th>\n",
       "      <th>Term</th>\n",
       "      <th>NoEmp</th>\n",
       "      <th>NewExist</th>\n",
       "      <th>CreateJob</th>\n",
       "      <th>RetainedJob</th>\n",
       "      <th>FranchiseCode</th>\n",
       "      <th>UrbanRural</th>\n",
       "    </tr>\n",
       "  </thead>\n",
       "  <tbody>\n",
       "    <tr>\n",
       "      <th>count</th>\n",
       "      <td>8.991640e+05</td>\n",
       "      <td>899164.000000</td>\n",
       "      <td>899164.000000</td>\n",
       "      <td>899164.000000</td>\n",
       "      <td>899164.000000</td>\n",
       "      <td>899028.000000</td>\n",
       "      <td>899164.000000</td>\n",
       "      <td>899164.000000</td>\n",
       "      <td>899164.000000</td>\n",
       "      <td>899164.000000</td>\n",
       "    </tr>\n",
       "    <tr>\n",
       "      <th>mean</th>\n",
       "      <td>4.772612e+09</td>\n",
       "      <td>53804.391241</td>\n",
       "      <td>398660.950146</td>\n",
       "      <td>110.773078</td>\n",
       "      <td>11.411353</td>\n",
       "      <td>1.280404</td>\n",
       "      <td>8.430376</td>\n",
       "      <td>10.797257</td>\n",
       "      <td>2753.725933</td>\n",
       "      <td>0.757748</td>\n",
       "    </tr>\n",
       "    <tr>\n",
       "      <th>std</th>\n",
       "      <td>2.538175e+09</td>\n",
       "      <td>31184.159152</td>\n",
       "      <td>263318.312759</td>\n",
       "      <td>78.857305</td>\n",
       "      <td>74.108196</td>\n",
       "      <td>0.451750</td>\n",
       "      <td>236.688165</td>\n",
       "      <td>237.120600</td>\n",
       "      <td>12758.019136</td>\n",
       "      <td>0.646436</td>\n",
       "    </tr>\n",
       "    <tr>\n",
       "      <th>min</th>\n",
       "      <td>1.000014e+09</td>\n",
       "      <td>0.000000</td>\n",
       "      <td>0.000000</td>\n",
       "      <td>0.000000</td>\n",
       "      <td>0.000000</td>\n",
       "      <td>0.000000</td>\n",
       "      <td>0.000000</td>\n",
       "      <td>0.000000</td>\n",
       "      <td>0.000000</td>\n",
       "      <td>0.000000</td>\n",
       "    </tr>\n",
       "    <tr>\n",
       "      <th>25%</th>\n",
       "      <td>2.589758e+09</td>\n",
       "      <td>27587.000000</td>\n",
       "      <td>235210.000000</td>\n",
       "      <td>60.000000</td>\n",
       "      <td>2.000000</td>\n",
       "      <td>1.000000</td>\n",
       "      <td>0.000000</td>\n",
       "      <td>0.000000</td>\n",
       "      <td>1.000000</td>\n",
       "      <td>0.000000</td>\n",
       "    </tr>\n",
       "    <tr>\n",
       "      <th>50%</th>\n",
       "      <td>4.361439e+09</td>\n",
       "      <td>55410.000000</td>\n",
       "      <td>445310.000000</td>\n",
       "      <td>84.000000</td>\n",
       "      <td>4.000000</td>\n",
       "      <td>1.000000</td>\n",
       "      <td>0.000000</td>\n",
       "      <td>1.000000</td>\n",
       "      <td>1.000000</td>\n",
       "      <td>1.000000</td>\n",
       "    </tr>\n",
       "    <tr>\n",
       "      <th>75%</th>\n",
       "      <td>6.904627e+09</td>\n",
       "      <td>83704.000000</td>\n",
       "      <td>561730.000000</td>\n",
       "      <td>120.000000</td>\n",
       "      <td>10.000000</td>\n",
       "      <td>2.000000</td>\n",
       "      <td>1.000000</td>\n",
       "      <td>4.000000</td>\n",
       "      <td>1.000000</td>\n",
       "      <td>1.000000</td>\n",
       "    </tr>\n",
       "    <tr>\n",
       "      <th>max</th>\n",
       "      <td>9.996003e+09</td>\n",
       "      <td>99999.000000</td>\n",
       "      <td>928120.000000</td>\n",
       "      <td>569.000000</td>\n",
       "      <td>9999.000000</td>\n",
       "      <td>2.000000</td>\n",
       "      <td>8800.000000</td>\n",
       "      <td>9500.000000</td>\n",
       "      <td>99999.000000</td>\n",
       "      <td>2.000000</td>\n",
       "    </tr>\n",
       "  </tbody>\n",
       "</table>\n",
       "</div>"
      ],
      "text/plain": [
       "       LoanNr_ChkDgt            Zip          NAICS           Term  \\\n",
       "count   8.991640e+05  899164.000000  899164.000000  899164.000000   \n",
       "mean    4.772612e+09   53804.391241  398660.950146     110.773078   \n",
       "std     2.538175e+09   31184.159152  263318.312759      78.857305   \n",
       "min     1.000014e+09       0.000000       0.000000       0.000000   \n",
       "25%     2.589758e+09   27587.000000  235210.000000      60.000000   \n",
       "50%     4.361439e+09   55410.000000  445310.000000      84.000000   \n",
       "75%     6.904627e+09   83704.000000  561730.000000     120.000000   \n",
       "max     9.996003e+09   99999.000000  928120.000000     569.000000   \n",
       "\n",
       "               NoEmp       NewExist      CreateJob    RetainedJob  \\\n",
       "count  899164.000000  899028.000000  899164.000000  899164.000000   \n",
       "mean       11.411353       1.280404       8.430376      10.797257   \n",
       "std        74.108196       0.451750     236.688165     237.120600   \n",
       "min         0.000000       0.000000       0.000000       0.000000   \n",
       "25%         2.000000       1.000000       0.000000       0.000000   \n",
       "50%         4.000000       1.000000       0.000000       1.000000   \n",
       "75%        10.000000       2.000000       1.000000       4.000000   \n",
       "max      9999.000000       2.000000    8800.000000    9500.000000   \n",
       "\n",
       "       FranchiseCode     UrbanRural  \n",
       "count  899164.000000  899164.000000  \n",
       "mean     2753.725933       0.757748  \n",
       "std     12758.019136       0.646436  \n",
       "min         0.000000       0.000000  \n",
       "25%         1.000000       0.000000  \n",
       "50%         1.000000       1.000000  \n",
       "75%         1.000000       1.000000  \n",
       "max     99999.000000       2.000000  "
      ]
     },
     "execution_count": 4,
     "metadata": {},
     "output_type": "execute_result"
    }
   ],
   "source": [
    "df.describe()"
   ]
  },
  {
   "cell_type": "markdown",
   "metadata": {},
   "source": [
    "### Column Descriptions\n",
    "1. LoanNr_ChkDgt\tIdentifier Primary key\n",
    "1. Name\tBorrower name\n",
    "2. City\tBorrower city\n",
    "3. State\tBorrower state\n",
    "4. Zip\tBorrower zip code\n",
    "5. Bank\tBank name\n",
    "6. BankState\tBank state\n",
    "7. NAICS\tNorth American industry classification system code\n",
    "8. ApprovalDate\tDate SBA commitment issued\n",
    "9. ApprovalFY\tFiscal year of commitment\n",
    "10. Term\tLoan term in months\n",
    "11. NoEmp\tNumber of business employees\n",
    "12. NewExist\t1 = Existing business, 2 = New business\n",
    "13. CreateJob\tNumber of jobs created\n",
    "14. RetainedJob\tNumber of jobs retained\n",
    "15. FranchiseCode\tFranchise code, (00000 or 00001) = No franchise\n",
    "16. UrbanRural\t1 = Urban, 2 = rural, 0 = undefined\n",
    "17. RevLineCr\tRevolving line of credit: Y = Yes, N = No\n",
    "18. LowDoc\tLowDoc Loan Program: Y = Yes, N = No\n",
    "19. ChgOffDate\tThe date when a loan is declared to be in default\n",
    "20. DisbursementDate\tDisbursement date\n",
    "21. DisbursementGross\tAmount disbursed\n",
    "22. BalanceGross\tGross amount outstanding\n",
    "23. MIS_Status\tLoan status charged off = CHGOFF, Paid in full =PIF\n",
    "24. ChgOffPrinGr\tCharged-off amount\n",
    "25. GrAppv\tGross amount of loan approved by bank\n",
    "26. SBA_Appv\tSBA’s guaranteed amount of approved loan\n",
    "\n",
    "Description of the first two digits of NAICS.\n",
    "\n",
    "Sector\tDescription\n",
    "1. 11\tAgriculture, forestry, fishing and hunting\n",
    "2. 21\tMining, quarrying, and oil and gas extraction\n",
    "3. 22\tUtilities\n",
    "4. 23\tConstruction\n",
    "5. 31–33\tManufacturing\n",
    "6. 42\tWholesale trade\n",
    "7. 44–45\tRetail trade\n",
    "8. 48–49\tTransportation and warehousing\n",
    "9. 51\tInformation\n",
    "10. 52\tFinance and insurance\n",
    "11. 53\tReal estate and rental and leasing\n",
    "12. 54\tProfessional, scientific, and technical services\n",
    "13. 55\tManagement of companies and enterprises\n",
    "14. 56\tAdministrative and support and waste management and remediation services\n",
    "15. 61\tEducational services\n",
    "16. 62\tHealth care and social assistance\n",
    "17. 71\tArts, entertainment, and recreation\n",
    "18. 72\tAccommodation and food services\n",
    "19. 81\tOther services (except public administration) 92 Public administration"
   ]
  },
  {
   "cell_type": "markdown",
   "metadata": {},
   "source": [
    "## Visualize the dataset to find missing values"
   ]
  },
  {
   "cell_type": "code",
   "execution_count": 5,
   "metadata": {},
   "outputs": [
    {
     "data": {
      "text/plain": [
       "<matplotlib.axes._subplots.AxesSubplot at 0x11adb8e50>"
      ]
     },
     "execution_count": 5,
     "metadata": {},
     "output_type": "execute_result"
    },
    {
     "data": {
      "image/png": "[encoded data removed]",
      "text/plain": [
       "<Figure size 1800x720 with 2 Axes>"
      ]
     },
     "metadata": {
      "needs_background": "light"
     },
     "output_type": "display_data"
    }
   ],
   "source": [
    "msno.matrix(df)"
   ]
  },
  {
   "cell_type": "markdown",
   "metadata": {},
   "source": [
    "#### Check for duplicate values"
   ]
  },
  {
   "cell_type": "code",
   "execution_count": 3,
   "metadata": {},
   "outputs": [
    {
     "data": {
      "text/html": [
       "<div>\n",
       "<style scoped>\n",
       "    .dataframe tbody tr th:only-of-type {\n",
       "        vertical-align: middle;\n",
       "    }\n",
       "\n",
       "    .dataframe tbody tr th {\n",
       "        vertical-align: top;\n",
       "    }\n",
       "\n",
       "    .dataframe thead th {\n",
       "        text-align: right;\n",
       "    }\n",
       "</style>\n",
       "<table border=\"1\" class=\"dataframe\">\n",
       "  <thead>\n",
       "    <tr style=\"text-align: right;\">\n",
       "      <th></th>\n",
       "      <th>LoanNr_ChkDgt</th>\n",
       "      <th>Name</th>\n",
       "      <th>City</th>\n",
       "      <th>State</th>\n",
       "      <th>Zip</th>\n",
       "      <th>Bank</th>\n",
       "      <th>BankState</th>\n",
       "      <th>NAICS</th>\n",
       "      <th>ApprovalDate</th>\n",
       "      <th>ApprovalFY</th>\n",
       "      <th>...</th>\n",
       "      <th>RevLineCr</th>\n",
       "      <th>LowDoc</th>\n",
       "      <th>ChgOffDate</th>\n",
       "      <th>DisbursementDate</th>\n",
       "      <th>DisbursementGross</th>\n",
       "      <th>BalanceGross</th>\n",
       "      <th>MIS_Status</th>\n",
       "      <th>ChgOffPrinGr</th>\n",
       "      <th>GrAppv</th>\n",
       "      <th>SBA_Appv</th>\n",
       "    </tr>\n",
       "  </thead>\n",
       "  <tbody>\n",
       "  </tbody>\n",
       "</table>\n",
       "<p>0 rows × 27 columns</p>\n",
       "</div>"
      ],
      "text/plain": [
       "Empty DataFrame\n",
       "Columns: [LoanNr_ChkDgt, Name, City, State, Zip, Bank, BankState, NAICS, ApprovalDate, ApprovalFY, Term, NoEmp, NewExist, CreateJob, RetainedJob, FranchiseCode, UrbanRural, RevLineCr, LowDoc, ChgOffDate, DisbursementDate, DisbursementGross, BalanceGross, MIS_Status, ChgOffPrinGr, GrAppv, SBA_Appv]\n",
       "Index: []\n",
       "\n",
       "[0 rows x 27 columns]"
      ]
     },
     "execution_count": 3,
     "metadata": {},
     "output_type": "execute_result"
    }
   ],
   "source": [
    "duplicate_series = df['LoanNr_ChkDgt'].duplicated(keep='first') \n",
    "df[duplicate_series]"
   ]
  },
  {
   "cell_type": "markdown",
   "metadata": {},
   "source": [
    "## Data cleaning and create new features"
   ]
  },
  {
   "cell_type": "code",
   "execution_count": 4,
   "metadata": {},
   "outputs": [],
   "source": [
    "## Drop null values\n",
    "df = df[(df['Bank'].notnull()) & (df['BankState'].notnull())]"
   ]
  },
  {
   "cell_type": "code",
   "execution_count": 12,
   "metadata": {
    "scrolled": false
   },
   "outputs": [
    {
     "data": {
      "text/html": [
       "<div>\n",
       "<style scoped>\n",
       "    .dataframe tbody tr th:only-of-type {\n",
       "        vertical-align: middle;\n",
       "    }\n",
       "\n",
       "    .dataframe tbody tr th {\n",
       "        vertical-align: top;\n",
       "    }\n",
       "\n",
       "    .dataframe thead th {\n",
       "        text-align: right;\n",
       "    }\n",
       "</style>\n",
       "<table border=\"1\" class=\"dataframe\">\n",
       "  <thead>\n",
       "    <tr style=\"text-align: right;\">\n",
       "      <th></th>\n",
       "      <th>LoanNr_ChkDgt</th>\n",
       "      <th>Name</th>\n",
       "      <th>City</th>\n",
       "      <th>State</th>\n",
       "      <th>Zip</th>\n",
       "      <th>NAICS</th>\n",
       "      <th>ApprovalDate</th>\n",
       "      <th>ApprovalFY</th>\n",
       "      <th>Term</th>\n",
       "      <th>NoEmp</th>\n",
       "      <th>...</th>\n",
       "      <th>RevLineCr</th>\n",
       "      <th>LowDoc</th>\n",
       "      <th>ChgOffDate</th>\n",
       "      <th>DisbursementDate</th>\n",
       "      <th>DisbursementGross</th>\n",
       "      <th>BalanceGross</th>\n",
       "      <th>MIS_Status</th>\n",
       "      <th>ChgOffPrinGr</th>\n",
       "      <th>GrAppv</th>\n",
       "      <th>SBA_Appv</th>\n",
       "    </tr>\n",
       "  </thead>\n",
       "  <tbody>\n",
       "    <tr>\n",
       "      <th>35517</th>\n",
       "      <td>1270833006</td>\n",
       "      <td>SO. JERSEY DANCE/MERRYLEES</td>\n",
       "      <td>PENNSVILLE</td>\n",
       "      <td>NaN</td>\n",
       "      <td>8070</td>\n",
       "      <td>0</td>\n",
       "      <td>28-Jul-81</td>\n",
       "      <td>1981</td>\n",
       "      <td>120</td>\n",
       "      <td>1</td>\n",
       "      <td>...</td>\n",
       "      <td>N</td>\n",
       "      <td>N</td>\n",
       "      <td>5-Mar-90</td>\n",
       "      <td>NaN</td>\n",
       "      <td>$0.00</td>\n",
       "      <td>$0.00</td>\n",
       "      <td>NaN</td>\n",
       "      <td>$11,364.00</td>\n",
       "      <td>$15,000.00</td>\n",
       "      <td>$15,000.00</td>\n",
       "    </tr>\n",
       "    <tr>\n",
       "      <th>49244</th>\n",
       "      <td>1380800010</td>\n",
       "      <td>TRYON COATS &amp; LEATHER</td>\n",
       "      <td>JOHNSTOWN       NY</td>\n",
       "      <td>NaN</td>\n",
       "      <td>0</td>\n",
       "      <td>0</td>\n",
       "      <td>18-May-66</td>\n",
       "      <td>1966</td>\n",
       "      <td>282</td>\n",
       "      <td>0</td>\n",
       "      <td>...</td>\n",
       "      <td>N</td>\n",
       "      <td>N</td>\n",
       "      <td>29-Mar-90</td>\n",
       "      <td>16-Aug-66</td>\n",
       "      <td>$60,000.00</td>\n",
       "      <td>$0.00</td>\n",
       "      <td>CHGOFF</td>\n",
       "      <td>$6,084.00</td>\n",
       "      <td>$60,000.00</td>\n",
       "      <td>$54,000.00</td>\n",
       "    </tr>\n",
       "    <tr>\n",
       "      <th>264664</th>\n",
       "      <td>2850643009</td>\n",
       "      <td>CENTURY 21 PHILLIPS REALTY</td>\n",
       "      <td>CAMERON PARK</td>\n",
       "      <td>NaN</td>\n",
       "      <td>95682</td>\n",
       "      <td>0</td>\n",
       "      <td>12-Feb-87</td>\n",
       "      <td>1987</td>\n",
       "      <td>240</td>\n",
       "      <td>19</td>\n",
       "      <td>...</td>\n",
       "      <td>N</td>\n",
       "      <td>N</td>\n",
       "      <td>NaN</td>\n",
       "      <td>17-Jun-87</td>\n",
       "      <td>$81,000.00</td>\n",
       "      <td>$0.00</td>\n",
       "      <td>P I F</td>\n",
       "      <td>$0.00</td>\n",
       "      <td>$83,000.00</td>\n",
       "      <td>$83,000.00</td>\n",
       "    </tr>\n",
       "    <tr>\n",
       "      <th>306274</th>\n",
       "      <td>3113583009</td>\n",
       "      <td>THE COMPUTER EDGE</td>\n",
       "      <td>BOX 267, APO  AP</td>\n",
       "      <td>NaN</td>\n",
       "      <td>96205</td>\n",
       "      <td>541511</td>\n",
       "      <td>21-Jan-88</td>\n",
       "      <td>1988</td>\n",
       "      <td>73</td>\n",
       "      <td>8</td>\n",
       "      <td>...</td>\n",
       "      <td>N</td>\n",
       "      <td>N</td>\n",
       "      <td>18-Sep-93</td>\n",
       "      <td>16-Mar-88</td>\n",
       "      <td>$50,000.00</td>\n",
       "      <td>$0.00</td>\n",
       "      <td>CHGOFF</td>\n",
       "      <td>$30,589.00</td>\n",
       "      <td>$50,000.00</td>\n",
       "      <td>$45,000.00</td>\n",
       "    </tr>\n",
       "    <tr>\n",
       "      <th>328526</th>\n",
       "      <td>3280213000</td>\n",
       "      <td>KING'S TRUCK WASH</td>\n",
       "      <td>WICHITA</td>\n",
       "      <td>NaN</td>\n",
       "      <td>67219</td>\n",
       "      <td>811192</td>\n",
       "      <td>5-Aug-88</td>\n",
       "      <td>1988</td>\n",
       "      <td>120</td>\n",
       "      <td>17</td>\n",
       "      <td>...</td>\n",
       "      <td>N</td>\n",
       "      <td>N</td>\n",
       "      <td>NaN</td>\n",
       "      <td>12-Jul-89</td>\n",
       "      <td>$119,000.00</td>\n",
       "      <td>$0.00</td>\n",
       "      <td>P I F</td>\n",
       "      <td>$0.00</td>\n",
       "      <td>$119,000.00</td>\n",
       "      <td>$119,000.00</td>\n",
       "    </tr>\n",
       "    <tr>\n",
       "      <th>351072</th>\n",
       "      <td>3445553007</td>\n",
       "      <td>JAMES A. NICHOLS</td>\n",
       "      <td>1542,TABUK,SAUDI ARABIA</td>\n",
       "      <td>NaN</td>\n",
       "      <td>79925</td>\n",
       "      <td>532230</td>\n",
       "      <td>19-May-89</td>\n",
       "      <td>1989</td>\n",
       "      <td>16</td>\n",
       "      <td>1</td>\n",
       "      <td>...</td>\n",
       "      <td>N</td>\n",
       "      <td>N</td>\n",
       "      <td>NaN</td>\n",
       "      <td>31-Jul-89</td>\n",
       "      <td>$60,000.00</td>\n",
       "      <td>$0.00</td>\n",
       "      <td>P I F</td>\n",
       "      <td>$0.00</td>\n",
       "      <td>$60,000.00</td>\n",
       "      <td>$54,000.00</td>\n",
       "    </tr>\n",
       "    <tr>\n",
       "      <th>366139</th>\n",
       "      <td>3556993002</td>\n",
       "      <td>GOLF SHOES UNLIMITED, INC.</td>\n",
       "      <td>PALM BEACH GARDENS</td>\n",
       "      <td>NaN</td>\n",
       "      <td>33410</td>\n",
       "      <td>451110</td>\n",
       "      <td>19-Oct-89</td>\n",
       "      <td>1990</td>\n",
       "      <td>84</td>\n",
       "      <td>3</td>\n",
       "      <td>...</td>\n",
       "      <td>N</td>\n",
       "      <td>N</td>\n",
       "      <td>NaN</td>\n",
       "      <td>31-Jan-90</td>\n",
       "      <td>$75,000.00</td>\n",
       "      <td>$0.00</td>\n",
       "      <td>P I F</td>\n",
       "      <td>$0.00</td>\n",
       "      <td>$75,000.00</td>\n",
       "      <td>$67,500.00</td>\n",
       "    </tr>\n",
       "    <tr>\n",
       "      <th>366158</th>\n",
       "      <td>3557093005</td>\n",
       "      <td>CASCO SERVICE</td>\n",
       "      <td>CASCO</td>\n",
       "      <td>NaN</td>\n",
       "      <td>54205</td>\n",
       "      <td>0</td>\n",
       "      <td>19-Oct-89</td>\n",
       "      <td>1990</td>\n",
       "      <td>204</td>\n",
       "      <td>8</td>\n",
       "      <td>...</td>\n",
       "      <td>N</td>\n",
       "      <td>N</td>\n",
       "      <td>NaN</td>\n",
       "      <td>30-Apr-90</td>\n",
       "      <td>$300,000.00</td>\n",
       "      <td>$0.00</td>\n",
       "      <td>P I F</td>\n",
       "      <td>$0.00</td>\n",
       "      <td>$300,000.00</td>\n",
       "      <td>$252,600.00</td>\n",
       "    </tr>\n",
       "    <tr>\n",
       "      <th>367007</th>\n",
       "      <td>3563473008</td>\n",
       "      <td>P &amp; P TOOL INC</td>\n",
       "      <td>SOMERSET</td>\n",
       "      <td>NaN</td>\n",
       "      <td>54025</td>\n",
       "      <td>0</td>\n",
       "      <td>26-Oct-89</td>\n",
       "      <td>1990</td>\n",
       "      <td>240</td>\n",
       "      <td>7</td>\n",
       "      <td>...</td>\n",
       "      <td>N</td>\n",
       "      <td>N</td>\n",
       "      <td>NaN</td>\n",
       "      <td>31-Jan-90</td>\n",
       "      <td>$82,000.00</td>\n",
       "      <td>$0.00</td>\n",
       "      <td>P I F</td>\n",
       "      <td>$0.00</td>\n",
       "      <td>$82,000.00</td>\n",
       "      <td>$73,800.00</td>\n",
       "    </tr>\n",
       "    <tr>\n",
       "      <th>379174</th>\n",
       "      <td>3664443009</td>\n",
       "      <td>WILLIAMS JEWELERS</td>\n",
       "      <td>SALT LAKE CITY</td>\n",
       "      <td>NaN</td>\n",
       "      <td>84124</td>\n",
       "      <td>448310</td>\n",
       "      <td>14-Dec-89</td>\n",
       "      <td>1990</td>\n",
       "      <td>60</td>\n",
       "      <td>4</td>\n",
       "      <td>...</td>\n",
       "      <td>N</td>\n",
       "      <td>N</td>\n",
       "      <td>NaN</td>\n",
       "      <td>31-Jul-90</td>\n",
       "      <td>$250,000.00</td>\n",
       "      <td>$0.00</td>\n",
       "      <td>P I F</td>\n",
       "      <td>$0.00</td>\n",
       "      <td>$250,000.00</td>\n",
       "      <td>$212,500.00</td>\n",
       "    </tr>\n",
       "    <tr>\n",
       "      <th>385418</th>\n",
       "      <td>3714383003</td>\n",
       "      <td>LAKE MOVIE TYMES, INC.</td>\n",
       "      <td>LAKE OZARK</td>\n",
       "      <td>NaN</td>\n",
       "      <td>65049</td>\n",
       "      <td>532230</td>\n",
       "      <td>4-Jan-90</td>\n",
       "      <td>1990</td>\n",
       "      <td>60</td>\n",
       "      <td>1</td>\n",
       "      <td>...</td>\n",
       "      <td>N</td>\n",
       "      <td>N</td>\n",
       "      <td>NaN</td>\n",
       "      <td>31-Jan-90</td>\n",
       "      <td>$75,000.00</td>\n",
       "      <td>$0.00</td>\n",
       "      <td>P I F</td>\n",
       "      <td>$0.00</td>\n",
       "      <td>$75,000.00</td>\n",
       "      <td>$67,500.00</td>\n",
       "    </tr>\n",
       "    <tr>\n",
       "      <th>869948</th>\n",
       "      <td>9390913007</td>\n",
       "      <td>OLSON ELECTRIC SERVICE, INC.</td>\n",
       "      <td>A452638533</td>\n",
       "      <td>NaN</td>\n",
       "      <td>75236</td>\n",
       "      <td>235310</td>\n",
       "      <td>9-Jul-96</td>\n",
       "      <td>1996</td>\n",
       "      <td>60</td>\n",
       "      <td>17</td>\n",
       "      <td>...</td>\n",
       "      <td>N</td>\n",
       "      <td>Y</td>\n",
       "      <td>NaN</td>\n",
       "      <td>31-Jul-96</td>\n",
       "      <td>$40,000.00</td>\n",
       "      <td>$0.00</td>\n",
       "      <td>P I F</td>\n",
       "      <td>$0.00</td>\n",
       "      <td>$40,000.00</td>\n",
       "      <td>$32,000.00</td>\n",
       "    </tr>\n",
       "    <tr>\n",
       "      <th>871847</th>\n",
       "      <td>9416233003</td>\n",
       "      <td>METRO SHEETMETAL &amp; ERECTION</td>\n",
       "      <td>A452638533</td>\n",
       "      <td>NaN</td>\n",
       "      <td>76052</td>\n",
       "      <td>235610</td>\n",
       "      <td>23-Jul-96</td>\n",
       "      <td>1996</td>\n",
       "      <td>84</td>\n",
       "      <td>3</td>\n",
       "      <td>...</td>\n",
       "      <td>N</td>\n",
       "      <td>Y</td>\n",
       "      <td>NaN</td>\n",
       "      <td>31-Jul-96</td>\n",
       "      <td>$80,000.00</td>\n",
       "      <td>$0.00</td>\n",
       "      <td>P I F</td>\n",
       "      <td>$0.00</td>\n",
       "      <td>$80,000.00</td>\n",
       "      <td>$64,000.00</td>\n",
       "    </tr>\n",
       "    <tr>\n",
       "      <th>885335</th>\n",
       "      <td>9690723000</td>\n",
       "      <td>VERANDA INTERIORS, INC.</td>\n",
       "      <td>A452638533</td>\n",
       "      <td>NaN</td>\n",
       "      <td>76645</td>\n",
       "      <td>0</td>\n",
       "      <td>24-Oct-96</td>\n",
       "      <td>1997</td>\n",
       "      <td>120</td>\n",
       "      <td>3</td>\n",
       "      <td>...</td>\n",
       "      <td>N</td>\n",
       "      <td>N</td>\n",
       "      <td>NaN</td>\n",
       "      <td>31-Jan-97</td>\n",
       "      <td>$100,000.00</td>\n",
       "      <td>$0.00</td>\n",
       "      <td>P I F</td>\n",
       "      <td>$0.00</td>\n",
       "      <td>$100,000.00</td>\n",
       "      <td>$80,000.00</td>\n",
       "    </tr>\n",
       "  </tbody>\n",
       "</table>\n",
       "<p>14 rows × 25 columns</p>\n",
       "</div>"
      ],
      "text/plain": [
       "        LoanNr_ChkDgt                          Name                     City  \\\n",
       "35517      1270833006    SO. JERSEY DANCE/MERRYLEES               PENNSVILLE   \n",
       "49244      1380800010         TRYON COATS & LEATHER       JOHNSTOWN       NY   \n",
       "264664     2850643009    CENTURY 21 PHILLIPS REALTY             CAMERON PARK   \n",
       "306274     3113583009             THE COMPUTER EDGE         BOX 267, APO  AP   \n",
       "328526     3280213000             KING'S TRUCK WASH                  WICHITA   \n",
       "351072     3445553007              JAMES A. NICHOLS  1542,TABUK,SAUDI ARABIA   \n",
       "366139     3556993002    GOLF SHOES UNLIMITED, INC.       PALM BEACH GARDENS   \n",
       "366158     3557093005                 CASCO SERVICE                    CASCO   \n",
       "367007     3563473008                P & P TOOL INC                 SOMERSET   \n",
       "379174     3664443009             WILLIAMS JEWELERS           SALT LAKE CITY   \n",
       "385418     3714383003        LAKE MOVIE TYMES, INC.               LAKE OZARK   \n",
       "869948     9390913007  OLSON ELECTRIC SERVICE, INC.               A452638533   \n",
       "871847     9416233003   METRO SHEETMETAL & ERECTION               A452638533   \n",
       "885335     9690723000       VERANDA INTERIORS, INC.               A452638533   \n",
       "\n",
       "       State    Zip   NAICS ApprovalDate ApprovalFY  Term  NoEmp  ...  \\\n",
       "35517    NaN   8070       0    28-Jul-81       1981   120      1  ...   \n",
       "49244    NaN      0       0    18-May-66       1966   282      0  ...   \n",
       "264664   NaN  95682       0    12-Feb-87       1987   240     19  ...   \n",
       "306274   NaN  96205  541511    21-Jan-88       1988    73      8  ...   \n",
       "328526   NaN  67219  811192     5-Aug-88       1988   120     17  ...   \n",
       "351072   NaN  79925  532230    19-May-89       1989    16      1  ...   \n",
       "366139   NaN  33410  451110    19-Oct-89       1990    84      3  ...   \n",
       "366158   NaN  54205       0    19-Oct-89       1990   204      8  ...   \n",
       "367007   NaN  54025       0    26-Oct-89       1990   240      7  ...   \n",
       "379174   NaN  84124  448310    14-Dec-89       1990    60      4  ...   \n",
       "385418   NaN  65049  532230     4-Jan-90       1990    60      1  ...   \n",
       "869948   NaN  75236  235310     9-Jul-96       1996    60     17  ...   \n",
       "871847   NaN  76052  235610    23-Jul-96       1996    84      3  ...   \n",
       "885335   NaN  76645       0    24-Oct-96       1997   120      3  ...   \n",
       "\n",
       "        RevLineCr  LowDoc  ChgOffDate  DisbursementDate  DisbursementGross  \\\n",
       "35517           N       N    5-Mar-90               NaN             $0.00    \n",
       "49244           N       N   29-Mar-90         16-Aug-66        $60,000.00    \n",
       "264664          N       N         NaN         17-Jun-87        $81,000.00    \n",
       "306274          N       N   18-Sep-93         16-Mar-88        $50,000.00    \n",
       "328526          N       N         NaN         12-Jul-89       $119,000.00    \n",
       "351072          N       N         NaN         31-Jul-89        $60,000.00    \n",
       "366139          N       N         NaN         31-Jan-90        $75,000.00    \n",
       "366158          N       N         NaN         30-Apr-90       $300,000.00    \n",
       "367007          N       N         NaN         31-Jan-90        $82,000.00    \n",
       "379174          N       N         NaN         31-Jul-90       $250,000.00    \n",
       "385418          N       N         NaN         31-Jan-90        $75,000.00    \n",
       "869948          N       Y         NaN         31-Jul-96        $40,000.00    \n",
       "871847          N       Y         NaN         31-Jul-96        $80,000.00    \n",
       "885335          N       N         NaN         31-Jan-97       $100,000.00    \n",
       "\n",
       "       BalanceGross MIS_Status ChgOffPrinGr        GrAppv      SBA_Appv  \n",
       "35517        $0.00         NaN  $11,364.00    $15,000.00    $15,000.00   \n",
       "49244        $0.00      CHGOFF   $6,084.00    $60,000.00    $54,000.00   \n",
       "264664       $0.00       P I F       $0.00    $83,000.00    $83,000.00   \n",
       "306274       $0.00      CHGOFF  $30,589.00    $50,000.00    $45,000.00   \n",
       "328526       $0.00       P I F       $0.00   $119,000.00   $119,000.00   \n",
       "351072       $0.00       P I F       $0.00    $60,000.00    $54,000.00   \n",
       "366139       $0.00       P I F       $0.00    $75,000.00    $67,500.00   \n",
       "366158       $0.00       P I F       $0.00   $300,000.00   $252,600.00   \n",
       "367007       $0.00       P I F       $0.00    $82,000.00    $73,800.00   \n",
       "379174       $0.00       P I F       $0.00   $250,000.00   $212,500.00   \n",
       "385418       $0.00       P I F       $0.00    $75,000.00    $67,500.00   \n",
       "869948       $0.00       P I F       $0.00    $40,000.00    $32,000.00   \n",
       "871847       $0.00       P I F       $0.00    $80,000.00    $64,000.00   \n",
       "885335       $0.00       P I F       $0.00   $100,000.00    $80,000.00   \n",
       "\n",
       "[14 rows x 25 columns]"
      ]
     },
     "execution_count": 12,
     "metadata": {},
     "output_type": "execute_result"
    }
   ],
   "source": [
    "df[df['State'].isnull()]"
   ]
  },
  {
   "cell_type": "code",
   "execution_count": 5,
   "metadata": {},
   "outputs": [],
   "source": [
    "df.loc[(df['City'] == 'PENNSVILLE') & (df['State'].isnull()), 'State'] = 'NJ'\n",
    "df.loc[df['LoanNr_ChkDgt'] == 1380800010, 'State'] = 'NY'\n",
    "df.loc[(df['City'] == 'CAMERON PARK') & (df['State'].isnull()), 'State'] = 'CA'\n",
    "df.loc[(df['LoanNr_ChkDgt'] == 3113583009) & (df['State'].isnull()), 'State'] = 'AP'\n",
    "df.loc[(df['City'] == 'WICHITA') & (df['State'].isnull()), 'State'] = 'KS'\n",
    "df.loc[(df['City'] == 'PALM BEACH GARDENS') & (df['State'].isnull()), 'State'] = 'FL'\n",
    "df.loc[(df['City'] == 'CASCO') & (df['State'].isnull()), 'State'] = 'WI'\n",
    "df.loc[(df['City'] == 'SOMERSET') & (df['State'].isnull()), 'State'] = 'WI'\n",
    "df.loc[(df['City'] == 'SALT LAKE CITY') & (df['State'].isnull()), 'State'] = 'UT'\n",
    "df.loc[(df['City'] == 'LAKE OZARK') & (df['State'].isnull()), 'State'] = 'MO'"
   ]
  },
  {
   "cell_type": "code",
   "execution_count": 6,
   "metadata": {},
   "outputs": [],
   "source": [
    "df = df[(df['City'].notnull()) & (df['State'].notnull()) & (df['Name'].notnull())]"
   ]
  },
  {
   "cell_type": "code",
   "execution_count": 7,
   "metadata": {},
   "outputs": [],
   "source": [
    "df = df[(df['NewExist'] != 0.0) & (df['NewExist'].notnull())]"
   ]
  },
  {
   "cell_type": "code",
   "execution_count": 8,
   "metadata": {},
   "outputs": [],
   "source": [
    "df = df[(df['RevLineCr'] == 'Y') | (df['RevLineCr'] == 'N')]"
   ]
  },
  {
   "cell_type": "code",
   "execution_count": 9,
   "metadata": {},
   "outputs": [],
   "source": [
    "df = df[(df['LowDoc'] == 'Y') | (df['LowDoc'] == 'N')]"
   ]
  },
  {
   "cell_type": "code",
   "execution_count": 10,
   "metadata": {},
   "outputs": [],
   "source": [
    "df = df[(df['DisbursementDate'].notnull()) & (df['MIS_Status'].notnull())]"
   ]
  },
  {
   "cell_type": "code",
   "execution_count": 11,
   "metadata": {},
   "outputs": [
    {
     "data": {
      "text/plain": [
       "LoanNr_ChkDgt             0\n",
       "Name                      0\n",
       "City                      0\n",
       "State                     0\n",
       "Zip                       0\n",
       "Bank                      0\n",
       "BankState                 0\n",
       "NAICS                     0\n",
       "ApprovalDate              0\n",
       "ApprovalFY                0\n",
       "Term                      0\n",
       "NoEmp                     0\n",
       "NewExist                  0\n",
       "CreateJob                 0\n",
       "RetainedJob               0\n",
       "FranchiseCode             0\n",
       "UrbanRural                0\n",
       "RevLineCr                 0\n",
       "LowDoc                    0\n",
       "ChgOffDate           496457\n",
       "DisbursementDate          0\n",
       "DisbursementGross         0\n",
       "BalanceGross              0\n",
       "MIS_Status                0\n",
       "ChgOffPrinGr              0\n",
       "GrAppv                    0\n",
       "SBA_Appv                  0\n",
       "dtype: int64"
      ]
     },
     "execution_count": 11,
     "metadata": {},
     "output_type": "execute_result"
    }
   ],
   "source": [
    "df.isnull().sum()"
   ]
  },
  {
   "cell_type": "code",
   "execution_count": 12,
   "metadata": {},
   "outputs": [],
   "source": [
    "def sector_simplify(x):\n",
    "    x = str(x)\n",
    "    if len(x) > 1:\n",
    "        if x[:2] == \"11\":\n",
    "            return 'Agriculture, forestry, fishing and hunting'\n",
    "        elif x[:2] == \"21\":\n",
    "            return 'Mining, quarrying, oil and gas extraction'\n",
    "        elif x[:2] == \"22\":\n",
    "            return 'Utilities'\n",
    "        elif x[:2] == \"23\":\n",
    "            return 'Construction'\n",
    "        elif x[:2] in ['31', '32', '33', '34']:\n",
    "            return 'Manufacturing'\n",
    "        elif x[:2] == '42':\n",
    "            return 'Wholesale Trade'\n",
    "        elif x[:2] in ['44', '45', '46']:\n",
    "            return 'Retail trade'\n",
    "        elif x[:2] in ['48','49','50']:\n",
    "            return 'Transportation and Warehousing'\n",
    "        elif x[:2] == '52':\n",
    "            return 'Finance and Insurance'\n",
    "        elif x[:2] == '53':\n",
    "            return 'Real estate, rental and leasing'\n",
    "        elif x[:2] == '54':\n",
    "            return 'Professional, scientific, and technical services'\n",
    "        elif x[:2] == '55':\n",
    "            return 'Management of companies and enterprises'\n",
    "        elif x[:2] == '56':\n",
    "            return 'Administrative  support and waste management and remediation services'\n",
    "        elif x[:2] == '61':\n",
    "            return 'Educational services'\n",
    "        elif x[:2] == '62':\n",
    "            return 'Health care and social assistance'\n",
    "        elif x[:2] == '71':\n",
    "            return 'Arts, entertainment, and recreation'\n",
    "        elif x[:2] == '72':\n",
    "            return 'Accommodation and food services'\n",
    "        elif x[:2] == '81':\n",
    "            return 'Other services'\n",
    "        elif x[:2] == '92':\n",
    "            return 'Public administration'\n",
    "    else:\n",
    "        return \"Unknown\""
   ]
  },
  {
   "cell_type": "code",
   "execution_count": 13,
   "metadata": {},
   "outputs": [
    {
     "data": {
      "text/plain": [
       "Unknown                                                                  153250\n",
       "Retail trade                                                              80954\n",
       "Construction                                                              49238\n",
       "Professional, scientific, and technical services                          49202\n",
       "Manufacturing                                                             45530\n",
       "Other services                                                            44800\n",
       "Wholesale Trade                                                           34804\n",
       "Health care and social assistance                                         34505\n",
       "Accommodation and food services                                           34266\n",
       "Administrative  support and waste management and remediation services     22012\n",
       "Transportation and Warehousing                                            15404\n",
       "Real estate, rental and leasing                                            9554\n",
       "Arts, entertainment, and recreation                                        9264\n",
       "Agriculture, forestry, fishing and hunting                                 7629\n",
       "Finance and Insurance                                                      6336\n",
       "Educational services                                                       4005\n",
       "Mining, quarrying, oil and gas extraction                                  1353\n",
       "Utilities                                                                   434\n",
       "Public administration                                                       183\n",
       "Management of companies and enterprises                                     120\n",
       "Name: Sector, dtype: int64"
      ]
     },
     "execution_count": 13,
     "metadata": {},
     "output_type": "execute_result"
    }
   ],
   "source": [
    "df['Sector'] = df['NAICS'].apply(lambda x: sector_simplify(x))\n",
    "df['Sector'].value_counts()"
   ]
  },
  {
   "cell_type": "code",
   "execution_count": 14,
   "metadata": {},
   "outputs": [],
   "source": [
    "df['gross_loan'] = df['GrAppv'].apply(lambda x: x.strip('$'))\n",
    "df['SBA_loan'] = df['SBA_Appv'].apply(lambda x: x.strip('$'))\n",
    "df['gross_loan'] = df['gross_loan'].apply(lambda x: x.strip())\n",
    "df['SBA_loan'] = df['SBA_loan'].apply(lambda x: x.strip())\n",
    "df['gross_loan'] = df['gross_loan'].apply(lambda x: x.replace(',',''))\n",
    "df['SBA_loan'] = df['SBA_loan'].apply(lambda x: x.replace(',',''))\n",
    "df['gross_loan'] = df['gross_loan'].astype('float64')\n",
    "df['SBA_loan'] = df['SBA_loan'].astype('float64')"
   ]
  },
  {
   "cell_type": "markdown",
   "metadata": {},
   "source": [
    "### Convert date columns to proper format"
   ]
  },
  {
   "cell_type": "code",
   "execution_count": 15,
   "metadata": {},
   "outputs": [],
   "source": [
    "df['ApprovalDate'] = pd.to_datetime(df['ApprovalDate'])\n",
    "df['DisbursementDate'] = pd.to_datetime(df['DisbursementDate'])\n",
    "df['ChgOffDate'] = pd.to_datetime(df['ChgOffDate'])"
   ]
  },
  {
   "cell_type": "markdown",
   "metadata": {},
   "source": [
    "### Add column if the state of borrower is the same as state of their lender"
   ]
  },
  {
   "cell_type": "code",
   "execution_count": 16,
   "metadata": {},
   "outputs": [],
   "source": [
    "df['same_state_loan'] = df['State'] == df['BankState']"
   ]
  },
  {
   "cell_type": "code",
   "execution_count": 98,
   "metadata": {},
   "outputs": [
    {
     "data": {
      "text/plain": [
       "True     320575\n",
       "False    289620\n",
       "Name: same_state_loan, dtype: int64"
      ]
     },
     "execution_count": 98,
     "metadata": {},
     "output_type": "execute_result"
    }
   ],
   "source": [
    "df['same_state_loan'].value_counts()"
   ]
  },
  {
   "cell_type": "markdown",
   "metadata": {},
   "source": [
    "## Correlations with MIS_Status"
   ]
  },
  {
   "cell_type": "code",
   "execution_count": 106,
   "metadata": {},
   "outputs": [
    {
     "name": "stdout",
     "output_type": "stream",
     "text": [
      "P I F     499642\n",
      "CHGOFF    110553\n",
      "Name: MIS_Status, dtype: int64\n"
     ]
    },
    {
     "data": {
      "image/png": "[encoded data removed]",
      "text/plain": [
       "<Figure size 432x288 with 1 Axes>"
      ]
     },
     "metadata": {
      "needs_background": "light"
     },
     "output_type": "display_data"
    }
   ],
   "source": [
    "mis_status = df['MIS_Status'].value_counts()\n",
    "print(mis_status)\n",
    "sns.barplot(x=mis_status.index, y=mis_status);"
   ]
  },
  {
   "cell_type": "markdown",
   "metadata": {},
   "source": [
    "## Numerical and Categorical features"
   ]
  },
  {
   "cell_type": "code",
   "execution_count": 17,
   "metadata": {},
   "outputs": [],
   "source": [
    "df_cat = df[['Name', 'City', 'State', 'Zip', 'Bank', 'BankState','NAICS',\n",
    "             'ApprovalDate', 'ApprovalFY', 'NewExist', 'FranchiseCode', 'UrbanRural',\n",
    "            'RevLineCr','LowDoc', 'ChgOffDate', 'DisbursementDate', 'MIS_Status', 'Sector','same_state_loan']]"
   ]
  },
  {
   "cell_type": "code",
   "execution_count": 18,
   "metadata": {},
   "outputs": [],
   "source": [
    "df_num = df[['Term', 'NoEmp', 'CreateJob', 'RetainedJob', 'DisbursementGross',\n",
    "            'BalanceGross', 'ChgOffPrinGr', 'gross_loan', 'SBA_loan', 'MIS_Status']]"
   ]
  },
  {
   "cell_type": "markdown",
   "metadata": {},
   "source": [
    "## Categorical"
   ]
  },
  {
   "cell_type": "code",
   "execution_count": 133,
   "metadata": {},
   "outputs": [
    {
     "name": "stdout",
     "output_type": "stream",
     "text": [
      "graph for City: total = 28408\n"
     ]
    },
    {
     "data": {
      "image/png": "[encoded data removed]",
      "text/plain": [
       "<Figure size 432x288 with 1 Axes>"
      ]
     },
     "metadata": {
      "needs_background": "light"
     },
     "output_type": "display_data"
    },
    {
     "name": "stdout",
     "output_type": "stream",
     "text": [
      "graph for State: total = 52\n"
     ]
    },
    {
     "data": {
      "image/png": "[encoded data removed]",
      "text/plain": [
       "<Figure size 432x288 with 1 Axes>"
      ]
     },
     "metadata": {
      "needs_background": "light"
     },
     "output_type": "display_data"
    },
    {
     "name": "stdout",
     "output_type": "stream",
     "text": [
      "graph for Bank: total = 5466\n"
     ]
    },
    {
     "data": {
      "image/png": "[encoded data removed]",
      "text/plain": [
       "<Figure size 432x288 with 1 Axes>"
      ]
     },
     "metadata": {
      "needs_background": "light"
     },
     "output_type": "display_data"
    },
    {
     "name": "stdout",
     "output_type": "stream",
     "text": [
      "graph for NewExist: total = 2\n"
     ]
    },
    {
     "data": {
      "image/png": "[encoded data removed]",
      "text/plain": [
       "<Figure size 432x288 with 1 Axes>"
      ]
     },
     "metadata": {
      "needs_background": "light"
     },
     "output_type": "display_data"
    }
   ],
   "source": [
    "for i in df[['City','State', 'Bank', 'NewExist']]:\n",
    "    cat_num = df[i].value_counts()\n",
    "    print(f\"graph for {i}: total = {len(cat_num)}\")\n",
    "    chart = sns.barplot(x=cat_num.index[:20], y=cat_num[:20])\n",
    "    chart.set_xticklabels(chart.get_xticklabels(), rotation=90)\n",
    "    plt.show();"
   ]
  },
  {
   "cell_type": "code",
   "execution_count": 118,
   "metadata": {},
   "outputs": [
    {
     "data": {
      "image/png": "[encoded data removed]",
      "text/plain": [
       "<Figure size 432x288 with 1 Axes>"
      ]
     },
     "metadata": {
      "needs_background": "light"
     },
     "output_type": "display_data"
    }
   ],
   "source": [
    "df_cat.groupby('NewExist')['MIS_Status'].value_counts().unstack().plot(kind='bar', stacked=True);"
   ]
  },
  {
   "cell_type": "code",
   "execution_count": 119,
   "metadata": {},
   "outputs": [
    {
     "data": {
      "text/plain": [
       "NewExist  MIS_Status\n",
       "1.0       P I F         364849\n",
       "          CHGOFF         80227\n",
       "2.0       P I F         134793\n",
       "          CHGOFF         30326\n",
       "Name: MIS_Status, dtype: int64"
      ]
     },
     "execution_count": 119,
     "metadata": {},
     "output_type": "execute_result"
    }
   ],
   "source": [
    "df_cat.groupby('NewExist')['MIS_Status'].value_counts()"
   ]
  },
  {
   "cell_type": "markdown",
   "metadata": {},
   "source": [
    "More loans for existing businesses as compared to new. Slightly bigger ratio of charged off loans for new businesses."
   ]
  },
  {
   "cell_type": "markdown",
   "metadata": {},
   "source": [
    "## Distribution of Categorical features"
   ]
  },
  {
   "cell_type": "code",
   "execution_count": 132,
   "metadata": {},
   "outputs": [
    {
     "name": "stdout",
     "output_type": "stream",
     "text": [
      "graph for Sector: total = 20\n"
     ]
    },
    {
     "data": {
      "image/png": "[encoded data removed]",
      "text/plain": [
       "<Figure size 432x288 with 1 Axes>"
      ]
     },
     "metadata": {
      "needs_background": "light"
     },
     "output_type": "display_data"
    },
    {
     "name": "stdout",
     "output_type": "stream",
     "text": [
      "graph for UrbanRural: total = 3\n"
     ]
    },
    {
     "data": {
      "image/png": "[encoded data removed]",
      "text/plain": [
       "<Figure size 432x288 with 1 Axes>"
      ]
     },
     "metadata": {
      "needs_background": "light"
     },
     "output_type": "display_data"
    },
    {
     "name": "stdout",
     "output_type": "stream",
     "text": [
      "graph for RevLineCr: total = 2\n"
     ]
    },
    {
     "data": {
      "image/png": "[encoded data removed]",
      "text/plain": [
       "<Figure size 432x288 with 1 Axes>"
      ]
     },
     "metadata": {
      "needs_background": "light"
     },
     "output_type": "display_data"
    },
    {
     "name": "stdout",
     "output_type": "stream",
     "text": [
      "graph for LowDoc: total = 2\n"
     ]
    },
    {
     "data": {
      "image/png": "[encoded data removed]",
      "text/plain": [
       "<Figure size 432x288 with 1 Axes>"
      ]
     },
     "metadata": {
      "needs_background": "light"
     },
     "output_type": "display_data"
    },
    {
     "name": "stdout",
     "output_type": "stream",
     "text": [
      "graph for same_state_loan: total = 2\n"
     ]
    },
    {
     "data": {
      "image/png": "[encoded data removed]",
      "text/plain": [
       "<Figure size 432x288 with 1 Axes>"
      ]
     },
     "metadata": {
      "needs_background": "light"
     },
     "output_type": "display_data"
    }
   ],
   "source": [
    "for i in df[['Sector','UrbanRural', 'RevLineCr', 'LowDoc', 'same_state_loan']]:\n",
    "    cat_num = df[i].value_counts()\n",
    "    print(f\"graph for {i}: total = {len(cat_num)}\")\n",
    "    chart = sns.barplot(x=cat_num.index, y=cat_num)\n",
    "    chart.set_xticklabels(cat_num.index, rotation=90)\n",
    "    plt.show();"
   ]
  },
  {
   "cell_type": "code",
   "execution_count": 127,
   "metadata": {},
   "outputs": [
    {
     "data": {
      "text/plain": [
       "Sector                                                                 MIS_Status\n",
       "Accommodation and food services                                        P I F          25701\n",
       "                                                                       CHGOFF          8565\n",
       "Administrative  support and waste management and remediation services  P I F          16537\n",
       "                                                                       CHGOFF          5475\n",
       "Agriculture, forestry, fishing and hunting                             P I F           6960\n",
       "                                                                       CHGOFF           669\n",
       "Arts, entertainment, and recreation                                    P I F           7311\n",
       "                                                                       CHGOFF          1953\n",
       "Construction                                                           P I F          37053\n",
       "                                                                       CHGOFF         12185\n",
       "Educational services                                                   P I F           2918\n",
       "                                                                       CHGOFF          1087\n",
       "Finance and Insurance                                                  P I F           4232\n",
       "                                                                       CHGOFF          2104\n",
       "Health care and social assistance                                      P I F          30878\n",
       "                                                                       CHGOFF          3627\n",
       "Management of companies and enterprises                                P I F             97\n",
       "                                                                       CHGOFF            23\n",
       "Manufacturing                                                          P I F          38187\n",
       "                                                                       CHGOFF          7343\n",
       "Mining, quarrying, oil and gas extraction                              P I F           1234\n",
       "                                                                       CHGOFF           119\n",
       "Other services                                                         P I F          35361\n",
       "                                                                       CHGOFF          9439\n",
       "Professional, scientific, and technical services                       P I F          39290\n",
       "                                                                       CHGOFF          9912\n",
       "Public administration                                                  P I F            153\n",
       "                                                                       CHGOFF            30\n",
       "Real estate, rental and leasing                                        P I F           6442\n",
       "                                                                       CHGOFF          3112\n",
       "Retail trade                                                           P I F          61708\n",
       "                                                                       CHGOFF         19246\n",
       "Transportation and Warehousing                                         P I F          10932\n",
       "                                                                       CHGOFF          4472\n",
       "Unknown                                                                P I F         141080\n",
       "                                                                       CHGOFF         12170\n",
       "Utilities                                                              P I F            355\n",
       "                                                                       CHGOFF            79\n",
       "Wholesale Trade                                                        P I F          27704\n",
       "                                                                       CHGOFF          7100\n",
       "Name: MIS_Status, dtype: int64"
      ]
     },
     "execution_count": 127,
     "metadata": {},
     "output_type": "execute_result"
    }
   ],
   "source": [
    "df_cat.groupby('Sector')['MIS_Status'].value_counts()"
   ]
  },
  {
   "cell_type": "code",
   "execution_count": 126,
   "metadata": {},
   "outputs": [
    {
     "data": {
      "image/png": "[encoded data removed]",
      "text/plain": [
       "<Figure size 432x288 with 1 Axes>"
      ]
     },
     "metadata": {
      "needs_background": "light"
     },
     "output_type": "display_data"
    }
   ],
   "source": [
    "df_cat.groupby('Sector')['MIS_Status'].value_counts().unstack().plot(kind='bar', stacked=True);"
   ]
  },
  {
   "cell_type": "code",
   "execution_count": 129,
   "metadata": {},
   "outputs": [
    {
     "data": {
      "text/plain": [
       "UrbanRural  MIS_Status\n",
       "0           P I F         236569\n",
       "            CHGOFF         16031\n",
       "1           P I F         211439\n",
       "            CHGOFF         81242\n",
       "2           P I F          51634\n",
       "            CHGOFF         13280\n",
       "Name: MIS_Status, dtype: int64"
      ]
     },
     "execution_count": 129,
     "metadata": {},
     "output_type": "execute_result"
    }
   ],
   "source": [
    "df_cat.groupby('UrbanRural')['MIS_Status'].value_counts()"
   ]
  },
  {
   "cell_type": "code",
   "execution_count": 130,
   "metadata": {},
   "outputs": [
    {
     "data": {
      "image/png": "[encoded data removed]",
      "text/plain": [
       "<Figure size 432x288 with 1 Axes>"
      ]
     },
     "metadata": {
      "needs_background": "light"
     },
     "output_type": "display_data"
    }
   ],
   "source": [
    "df_cat.groupby('UrbanRural')['MIS_Status'].value_counts().unstack().plot(kind='bar', stacked=True);"
   ]
  },
  {
   "cell_type": "code",
   "execution_count": 134,
   "metadata": {},
   "outputs": [
    {
     "data": {
      "image/png": "[encoded data removed]",
      "text/plain": [
       "<Figure size 432x288 with 1 Axes>"
      ]
     },
     "metadata": {
      "needs_background": "light"
     },
     "output_type": "display_data"
    }
   ],
   "source": [
    "df_cat.groupby('RevLineCr')['MIS_Status'].value_counts().unstack().plot(kind='bar', stacked=True);"
   ]
  },
  {
   "cell_type": "code",
   "execution_count": 137,
   "metadata": {},
   "outputs": [
    {
     "data": {
      "text/plain": [
       "RevLineCr  MIS_Status\n",
       "N          P I F         352292\n",
       "           CHGOFF         59858\n",
       "Y          P I F         147350\n",
       "           CHGOFF         50695\n",
       "Name: MIS_Status, dtype: int64"
      ]
     },
     "execution_count": 137,
     "metadata": {},
     "output_type": "execute_result"
    }
   ],
   "source": [
    "df_cat.groupby('RevLineCr')['MIS_Status'].value_counts()"
   ]
  },
  {
   "cell_type": "code",
   "execution_count": 135,
   "metadata": {},
   "outputs": [
    {
     "data": {
      "image/png": "[encoded data removed]",
      "text/plain": [
       "<Figure size 432x288 with 1 Axes>"
      ]
     },
     "metadata": {
      "needs_background": "light"
     },
     "output_type": "display_data"
    }
   ],
   "source": [
    "df_cat.groupby('LowDoc')['MIS_Status'].value_counts().unstack().plot(kind='bar', stacked=True);"
   ]
  },
  {
   "cell_type": "code",
   "execution_count": 139,
   "metadata": {},
   "outputs": [
    {
     "data": {
      "text/plain": [
       "LowDoc  MIS_Status\n",
       "N       P I F         445245\n",
       "        CHGOFF        107872\n",
       "Y       P I F          54397\n",
       "        CHGOFF          2681\n",
       "Name: MIS_Status, dtype: int64"
      ]
     },
     "execution_count": 139,
     "metadata": {},
     "output_type": "execute_result"
    }
   ],
   "source": [
    "df_cat.groupby('LowDoc')['MIS_Status'].value_counts()"
   ]
  },
  {
   "cell_type": "code",
   "execution_count": 136,
   "metadata": {},
   "outputs": [
    {
     "data": {
      "image/png": "[encoded data removed]",
      "text/plain": [
       "<Figure size 432x288 with 1 Axes>"
      ]
     },
     "metadata": {
      "needs_background": "light"
     },
     "output_type": "display_data"
    }
   ],
   "source": [
    "df_cat.groupby('same_state_loan')['MIS_Status'].value_counts().unstack().plot(kind='bar', stacked=True);"
   ]
  },
  {
   "cell_type": "code",
   "execution_count": 138,
   "metadata": {},
   "outputs": [
    {
     "data": {
      "text/plain": [
       "same_state_loan  MIS_Status\n",
       "False            P I F         211332\n",
       "                 CHGOFF         78288\n",
       "True             P I F         288310\n",
       "                 CHGOFF         32265\n",
       "Name: MIS_Status, dtype: int64"
      ]
     },
     "execution_count": 138,
     "metadata": {},
     "output_type": "execute_result"
    }
   ],
   "source": [
    "df_cat.groupby('same_state_loan')['MIS_Status'].value_counts()"
   ]
  },
  {
   "cell_type": "code",
   "execution_count": 172,
   "metadata": {},
   "outputs": [
    {
     "data": {
      "text/plain": [
       "1        387161\n",
       "0        197349\n",
       "78760      1606\n",
       "21780       615\n",
       "50564       400\n",
       "          ...  \n",
       "90500         1\n",
       "52413         1\n",
       "53950         1\n",
       "27305         1\n",
       "52898         1\n",
       "Name: FranchiseCode, Length: 2245, dtype: int64"
      ]
     },
     "execution_count": 172,
     "metadata": {},
     "output_type": "execute_result"
    }
   ],
   "source": [
    "df['FranchiseCode'].value_counts()"
   ]
  },
  {
   "cell_type": "markdown",
   "metadata": {},
   "source": [
    "### Add a feature describing if it is a franchise or not"
   ]
  },
  {
   "cell_type": "code",
   "execution_count": 19,
   "metadata": {},
   "outputs": [],
   "source": [
    "def franchise(x):\n",
    "    if x == 0 or x == 1:\n",
    "        return False\n",
    "    else:\n",
    "        return True"
   ]
  },
  {
   "cell_type": "code",
   "execution_count": 20,
   "metadata": {},
   "outputs": [
    {
     "data": {
      "text/plain": [
       "False    584510\n",
       "True      25685\n",
       "Name: is_franchise, dtype: int64"
      ]
     },
     "execution_count": 20,
     "metadata": {},
     "output_type": "execute_result"
    }
   ],
   "source": [
    "df['is_franchise'] = df['FranchiseCode'].apply(lambda x: franchise(x))\n",
    "df['is_franchise'].value_counts()"
   ]
  },
  {
   "cell_type": "code",
   "execution_count": 180,
   "metadata": {},
   "outputs": [
    {
     "data": {
      "image/png": "[encoded data removed]",
      "text/plain": [
       "<Figure size 432x288 with 1 Axes>"
      ]
     },
     "metadata": {
      "needs_background": "light"
     },
     "output_type": "display_data"
    }
   ],
   "source": [
    "df.groupby('is_franchise')['MIS_Status'].value_counts().unstack().plot(kind='bar', stacked=True);"
   ]
  },
  {
   "cell_type": "code",
   "execution_count": 181,
   "metadata": {},
   "outputs": [
    {
     "data": {
      "text/plain": [
       "is_franchise  MIS_Status\n",
       "False         P I F         476961\n",
       "              CHGOFF        107549\n",
       "True          P I F          22681\n",
       "              CHGOFF          3004\n",
       "Name: MIS_Status, dtype: int64"
      ]
     },
     "execution_count": 181,
     "metadata": {},
     "output_type": "execute_result"
    }
   ],
   "source": [
    "df.groupby('is_franchise')['MIS_Status'].value_counts()"
   ]
  },
  {
   "cell_type": "markdown",
   "metadata": {},
   "source": [
    "## Numerical Features"
   ]
  },
  {
   "cell_type": "code",
   "execution_count": 140,
   "metadata": {},
   "outputs": [
    {
     "name": "stdout",
     "output_type": "stream",
     "text": [
      "171458.9289309155\n"
     ]
    },
    {
     "data": {
      "image/png": "[encoded data removed]",
      "text/plain": [
       "<Figure size 1080x720 with 1 Axes>"
      ]
     },
     "metadata": {
      "needs_background": "light"
     },
     "output_type": "display_data"
    }
   ],
   "source": [
    "print(df_num['gross_loan'].mean())\n",
    "fig = plt.figure(figsize=(15,10))\n",
    "sns.distplot(df_num['gross_loan']);"
   ]
  },
  {
   "cell_type": "markdown",
   "metadata": {},
   "source": [
    "### The gross loans are skewed to the right and can affect the model's predictions"
   ]
  },
  {
   "cell_type": "code",
   "execution_count": 21,
   "metadata": {},
   "outputs": [
    {
     "name": "stderr",
     "output_type": "stream",
     "text": [
      "<ipython-input-21-451711329a26>:1: SettingWithCopyWarning: \n",
      "A value is trying to be set on a copy of a slice from a DataFrame.\n",
      "Try using .loc[row_indexer,col_indexer] = value instead\n",
      "\n",
      "See the caveats in the documentation: https://pandas.pydata.org/pandas-docs/stable/user_guide/indexing.html#returning-a-view-versus-a-copy\n",
      "  df_num['gross_loan'] = np.log(df_num['gross_loan'])\n"
     ]
    }
   ],
   "source": [
    "df_num['gross_loan'] = np.log(df_num['gross_loan'])"
   ]
  },
  {
   "cell_type": "code",
   "execution_count": 166,
   "metadata": {},
   "outputs": [
    {
     "data": {
      "image/png": "[encoded data removed]",
      "text/plain": [
       "<Figure size 1080x720 with 1 Axes>"
      ]
     },
     "metadata": {
      "needs_background": "light"
     },
     "output_type": "display_data"
    }
   ],
   "source": [
    "fig = plt.figure(figsize=(15,10))\n",
    "sns.distplot(df_num['gross_loan']);"
   ]
  },
  {
   "cell_type": "code",
   "execution_count": 143,
   "metadata": {},
   "outputs": [
    {
     "data": {
      "image/png": "[encoded data removed]",
      "text/plain": [
       "<Figure size 1080x720 with 1 Axes>"
      ]
     },
     "metadata": {
      "needs_background": "light"
     },
     "output_type": "display_data"
    }
   ],
   "source": [
    "fig = plt.figure(figsize=(15,10))\n",
    "sba_chart = sns.distplot(df_num['SBA_loan'])\n",
    "plt.show;"
   ]
  },
  {
   "cell_type": "markdown",
   "metadata": {},
   "source": [
    "### The SBA approved loans are also skewed to the right and can affect the model"
   ]
  },
  {
   "cell_type": "code",
   "execution_count": 22,
   "metadata": {},
   "outputs": [
    {
     "name": "stderr",
     "output_type": "stream",
     "text": [
      "<ipython-input-22-299d8b7bc0cd>:1: SettingWithCopyWarning: \n",
      "A value is trying to be set on a copy of a slice from a DataFrame.\n",
      "Try using .loc[row_indexer,col_indexer] = value instead\n",
      "\n",
      "See the caveats in the documentation: https://pandas.pydata.org/pandas-docs/stable/user_guide/indexing.html#returning-a-view-versus-a-copy\n",
      "  df_num['SBA_loan'] = np.log(df_num['SBA_loan'])\n"
     ]
    }
   ],
   "source": [
    "df_num['SBA_loan'] = np.log(df_num['SBA_loan'])"
   ]
  },
  {
   "cell_type": "code",
   "execution_count": 169,
   "metadata": {},
   "outputs": [
    {
     "data": {
      "image/png": "[encoded data removed]",
      "text/plain": [
       "<Figure size 1080x720 with 1 Axes>"
      ]
     },
     "metadata": {
      "needs_background": "light"
     },
     "output_type": "display_data"
    }
   ],
   "source": [
    "fig = plt.figure(figsize=(15,10))\n",
    "sba_chart = sns.distplot(df_num['SBA_loan'])\n",
    "plt.show;"
   ]
  },
  {
   "cell_type": "markdown",
   "metadata": {},
   "source": [
    "## Add a feature describing if the SBA loan amount guaranteed is equal to the loan approved by the bank. If not then it is lower than the bank loan."
   ]
  },
  {
   "cell_type": "code",
   "execution_count": 23,
   "metadata": {},
   "outputs": [
    {
     "data": {
      "text/plain": [
       "False    557929\n",
       "True      52266\n",
       "Name: SBA_loan_coverage, dtype: int64"
      ]
     },
     "execution_count": 23,
     "metadata": {},
     "output_type": "execute_result"
    }
   ],
   "source": [
    "df['SBA_loan_coverage'] = df['gross_loan'] == df['SBA_loan']\n",
    "df['SBA_loan_coverage'].value_counts()"
   ]
  },
  {
   "cell_type": "code",
   "execution_count": 146,
   "metadata": {},
   "outputs": [
    {
     "data": {
      "image/png": "[encoded data removed]",
      "text/plain": [
       "<Figure size 432x288 with 1 Axes>"
      ]
     },
     "metadata": {
      "needs_background": "light"
     },
     "output_type": "display_data"
    }
   ],
   "source": [
    "df.groupby('SBA_loan_coverage')['MIS_Status'].value_counts().unstack().plot(kind='bar', stacked=True);"
   ]
  },
  {
   "cell_type": "code",
   "execution_count": 147,
   "metadata": {},
   "outputs": [
    {
     "data": {
      "text/plain": [
       "SBA_loan_coverage  MIS_Status\n",
       "False              P I F         448216\n",
       "                   CHGOFF        109713\n",
       "True               P I F          51426\n",
       "                   CHGOFF           840\n",
       "Name: MIS_Status, dtype: int64"
      ]
     },
     "execution_count": 147,
     "metadata": {},
     "output_type": "execute_result"
    }
   ],
   "source": [
    "df.groupby('SBA_loan_coverage')['MIS_Status'].value_counts()"
   ]
  },
  {
   "cell_type": "code",
   "execution_count": 155,
   "metadata": {},
   "outputs": [
    {
     "data": {
      "text/html": [
       "<div>\n",
       "<style scoped>\n",
       "    .dataframe tbody tr th:only-of-type {\n",
       "        vertical-align: middle;\n",
       "    }\n",
       "\n",
       "    .dataframe tbody tr th {\n",
       "        vertical-align: top;\n",
       "    }\n",
       "\n",
       "    .dataframe thead th {\n",
       "        text-align: right;\n",
       "    }\n",
       "</style>\n",
       "<table border=\"1\" class=\"dataframe\">\n",
       "  <thead>\n",
       "    <tr style=\"text-align: right;\">\n",
       "      <th></th>\n",
       "      <th>count</th>\n",
       "      <th>mean</th>\n",
       "      <th>std</th>\n",
       "      <th>min</th>\n",
       "      <th>25%</th>\n",
       "      <th>50%</th>\n",
       "      <th>75%</th>\n",
       "      <th>max</th>\n",
       "    </tr>\n",
       "    <tr>\n",
       "      <th>MIS_Status</th>\n",
       "      <th></th>\n",
       "      <th></th>\n",
       "      <th></th>\n",
       "      <th></th>\n",
       "      <th></th>\n",
       "      <th></th>\n",
       "      <th></th>\n",
       "      <th></th>\n",
       "    </tr>\n",
       "  </thead>\n",
       "  <tbody>\n",
       "    <tr>\n",
       "      <th>CHGOFF</th>\n",
       "      <td>110553.0</td>\n",
       "      <td>97667.904308</td>\n",
       "      <td>176353.555603</td>\n",
       "      <td>1000.0</td>\n",
       "      <td>25000.0</td>\n",
       "      <td>45000.0</td>\n",
       "      <td>100000.0</td>\n",
       "      <td>3500000.0</td>\n",
       "    </tr>\n",
       "    <tr>\n",
       "      <th>P I F</th>\n",
       "      <td>499642.0</td>\n",
       "      <td>187786.257588</td>\n",
       "      <td>269676.747241</td>\n",
       "      <td>1000.0</td>\n",
       "      <td>35000.0</td>\n",
       "      <td>90000.0</td>\n",
       "      <td>230000.0</td>\n",
       "      <td>5000000.0</td>\n",
       "    </tr>\n",
       "  </tbody>\n",
       "</table>\n",
       "</div>"
      ],
      "text/plain": [
       "               count           mean            std     min      25%      50%  \\\n",
       "MIS_Status                                                                     \n",
       "CHGOFF      110553.0   97667.904308  176353.555603  1000.0  25000.0  45000.0   \n",
       "P I F       499642.0  187786.257588  269676.747241  1000.0  35000.0  90000.0   \n",
       "\n",
       "                 75%        max  \n",
       "MIS_Status                       \n",
       "CHGOFF      100000.0  3500000.0  \n",
       "P I F       230000.0  5000000.0  "
      ]
     },
     "execution_count": 155,
     "metadata": {},
     "output_type": "execute_result"
    }
   ],
   "source": [
    "df_num.groupby('MIS_Status')['gross_loan'].describe()"
   ]
  },
  {
   "cell_type": "code",
   "execution_count": 154,
   "metadata": {},
   "outputs": [
    {
     "data": {
      "text/html": [
       "<div>\n",
       "<style scoped>\n",
       "    .dataframe tbody tr th:only-of-type {\n",
       "        vertical-align: middle;\n",
       "    }\n",
       "\n",
       "    .dataframe tbody tr th {\n",
       "        vertical-align: top;\n",
       "    }\n",
       "\n",
       "    .dataframe thead th {\n",
       "        text-align: right;\n",
       "    }\n",
       "</style>\n",
       "<table border=\"1\" class=\"dataframe\">\n",
       "  <thead>\n",
       "    <tr style=\"text-align: right;\">\n",
       "      <th></th>\n",
       "      <th>count</th>\n",
       "      <th>mean</th>\n",
       "      <th>std</th>\n",
       "      <th>min</th>\n",
       "      <th>25%</th>\n",
       "      <th>50%</th>\n",
       "      <th>75%</th>\n",
       "      <th>max</th>\n",
       "    </tr>\n",
       "    <tr>\n",
       "      <th>MIS_Status</th>\n",
       "      <th></th>\n",
       "      <th></th>\n",
       "      <th></th>\n",
       "      <th></th>\n",
       "      <th></th>\n",
       "      <th></th>\n",
       "      <th></th>\n",
       "      <th></th>\n",
       "    </tr>\n",
       "  </thead>\n",
       "  <tbody>\n",
       "    <tr>\n",
       "      <th>CHGOFF</th>\n",
       "      <td>110553.0</td>\n",
       "      <td>53.820385</td>\n",
       "      <td>43.073008</td>\n",
       "      <td>0.0</td>\n",
       "      <td>28.0</td>\n",
       "      <td>48.0</td>\n",
       "      <td>66.0</td>\n",
       "      <td>461.0</td>\n",
       "    </tr>\n",
       "    <tr>\n",
       "      <th>P I F</th>\n",
       "      <td>499642.0</td>\n",
       "      <td>116.490099</td>\n",
       "      <td>76.474363</td>\n",
       "      <td>0.0</td>\n",
       "      <td>72.0</td>\n",
       "      <td>84.0</td>\n",
       "      <td>144.0</td>\n",
       "      <td>527.0</td>\n",
       "    </tr>\n",
       "  </tbody>\n",
       "</table>\n",
       "</div>"
      ],
      "text/plain": [
       "               count        mean        std  min   25%   50%    75%    max\n",
       "MIS_Status                                                                \n",
       "CHGOFF      110553.0   53.820385  43.073008  0.0  28.0  48.0   66.0  461.0\n",
       "P I F       499642.0  116.490099  76.474363  0.0  72.0  84.0  144.0  527.0"
      ]
     },
     "execution_count": 154,
     "metadata": {},
     "output_type": "execute_result"
    }
   ],
   "source": [
    "df_num.groupby('MIS_Status')['Term'].describe()"
   ]
  },
  {
   "cell_type": "code",
   "execution_count": 160,
   "metadata": {},
   "outputs": [
    {
     "data": {
      "image/png": "[encoded data removed]",
      "text/plain": [
       "<Figure size 432x288 with 1 Axes>"
      ]
     },
     "metadata": {
      "needs_background": "light"
     },
     "output_type": "display_data"
    }
   ],
   "source": [
    "sns.distplot(df_num['CreateJob']);"
   ]
  },
  {
   "cell_type": "code",
   "execution_count": 125,
   "metadata": {},
   "outputs": [
    {
     "data": {
      "text/plain": [
       "0       449325\n",
       "1        39964\n",
       "2        34251\n",
       "3        16146\n",
       "4        11351\n",
       "         ...  \n",
       "158          1\n",
       "154          1\n",
       "145          1\n",
       "141          1\n",
       "1530         1\n",
       "Name: CreateJob, Length: 222, dtype: int64"
      ]
     },
     "execution_count": 125,
     "metadata": {},
     "output_type": "execute_result"
    }
   ],
   "source": [
    "df_num['CreateJob'].value_counts()"
   ]
  },
  {
   "cell_type": "code",
   "execution_count": 159,
   "metadata": {},
   "outputs": [
    {
     "data": {
      "image/png": "[encoded data removed]",
      "text/plain": [
       "<Figure size 432x288 with 1 Axes>"
      ]
     },
     "metadata": {
      "needs_background": "light"
     },
     "output_type": "display_data"
    }
   ],
   "source": [
    "sns.distplot(df_num['RetainedJob']);"
   ]
  },
  {
   "cell_type": "code",
   "execution_count": 124,
   "metadata": {},
   "outputs": [
    {
     "data": {
      "text/plain": [
       "0       312861\n",
       "1        59539\n",
       "2        50319\n",
       "3        33276\n",
       "4        26211\n",
       "         ...  \n",
       "237          1\n",
       "232          1\n",
       "219          1\n",
       "7250         1\n",
       "585          1\n",
       "Name: RetainedJob, Length: 315, dtype: int64"
      ]
     },
     "execution_count": 124,
     "metadata": {},
     "output_type": "execute_result"
    }
   ],
   "source": [
    "df_num['RetainedJob'].value_counts()"
   ]
  },
  {
   "cell_type": "code",
   "execution_count": 162,
   "metadata": {},
   "outputs": [
    {
     "data": {
      "image/png": "[encoded data removed]",
      "text/plain": [
       "<Figure size 432x288 with 1 Axes>"
      ]
     },
     "metadata": {
      "needs_background": "light"
     },
     "output_type": "display_data"
    }
   ],
   "source": [
    "sns.distplot(df_num['NoEmp']);"
   ]
  },
  {
   "cell_type": "code",
   "execution_count": 126,
   "metadata": {},
   "outputs": [
    {
     "data": {
      "text/plain": [
       "1       101885\n",
       "2        91127\n",
       "3        60207\n",
       "4        49303\n",
       "5        40495\n",
       "         ...  \n",
       "688          1\n",
       "823          1\n",
       "7241         1\n",
       "312          1\n",
       "660          1\n",
       "Name: NoEmp, Length: 529, dtype: int64"
      ]
     },
     "execution_count": 126,
     "metadata": {},
     "output_type": "execute_result"
    }
   ],
   "source": [
    "df_num['NoEmp'].value_counts()"
   ]
  },
  {
   "cell_type": "code",
   "execution_count": 170,
   "metadata": {},
   "outputs": [
    {
     "data": {
      "text/plain": [
       "Index(['Name', 'City', 'State', 'Zip', 'Bank', 'BankState', 'NAICS',\n",
       "       'ApprovalDate', 'ApprovalFY', 'NewExist', 'FranchiseCode', 'UrbanRural',\n",
       "       'RevLineCr', 'LowDoc', 'ChgOffDate', 'DisbursementDate', 'MIS_Status',\n",
       "       'Sector', 'same_state_loan'],\n",
       "      dtype='object')"
      ]
     },
     "execution_count": 170,
     "metadata": {},
     "output_type": "execute_result"
    }
   ],
   "source": [
    "df_cat.columns"
   ]
  },
  {
   "cell_type": "code",
   "execution_count": 171,
   "metadata": {},
   "outputs": [
    {
     "data": {
      "text/plain": [
       "Index(['Term', 'NoEmp', 'CreateJob', 'RetainedJob', 'DisbursementGross',\n",
       "       'BalanceGross', 'ChgOffPrinGr', 'gross_loan', 'SBA_loan', 'MIS_Status'],\n",
       "      dtype='object')"
      ]
     },
     "execution_count": 171,
     "metadata": {},
     "output_type": "execute_result"
    }
   ],
   "source": [
    "df_num.columns"
   ]
  },
  {
   "cell_type": "code",
   "execution_count": 78,
   "metadata": {},
   "outputs": [],
   "source": [
    "predictors = ['MIS_Status','NewExist', 'is_franchise', 'UrbanRural','RevLineCr', 'LowDoc',\n",
    "                 'Sector', 'same_state_loan', 'gross_loan', 'SBA_loan', 'Term']"
   ]
  },
  {
   "cell_type": "code",
   "execution_count": 79,
   "metadata": {},
   "outputs": [],
   "source": [
    "df_model = df[predictors]"
   ]
  },
  {
   "cell_type": "code",
   "execution_count": 80,
   "metadata": {},
   "outputs": [
    {
     "data": {
      "text/html": [
       "<div>\n",
       "<style scoped>\n",
       "    .dataframe tbody tr th:only-of-type {\n",
       "        vertical-align: middle;\n",
       "    }\n",
       "\n",
       "    .dataframe tbody tr th {\n",
       "        vertical-align: top;\n",
       "    }\n",
       "\n",
       "    .dataframe thead th {\n",
       "        text-align: right;\n",
       "    }\n",
       "</style>\n",
       "<table border=\"1\" class=\"dataframe\">\n",
       "  <thead>\n",
       "    <tr style=\"text-align: right;\">\n",
       "      <th></th>\n",
       "      <th>gross_loan</th>\n",
       "      <th>SBA_loan</th>\n",
       "      <th>Term</th>\n",
       "    </tr>\n",
       "  </thead>\n",
       "  <tbody>\n",
       "    <tr>\n",
       "      <th>0</th>\n",
       "      <td>60000.0</td>\n",
       "      <td>48000.0</td>\n",
       "      <td>84</td>\n",
       "    </tr>\n",
       "    <tr>\n",
       "      <th>1</th>\n",
       "      <td>40000.0</td>\n",
       "      <td>32000.0</td>\n",
       "      <td>60</td>\n",
       "    </tr>\n",
       "    <tr>\n",
       "      <th>2</th>\n",
       "      <td>287000.0</td>\n",
       "      <td>215250.0</td>\n",
       "      <td>180</td>\n",
       "    </tr>\n",
       "    <tr>\n",
       "      <th>3</th>\n",
       "      <td>35000.0</td>\n",
       "      <td>28000.0</td>\n",
       "      <td>60</td>\n",
       "    </tr>\n",
       "    <tr>\n",
       "      <th>4</th>\n",
       "      <td>229000.0</td>\n",
       "      <td>229000.0</td>\n",
       "      <td>240</td>\n",
       "    </tr>\n",
       "    <tr>\n",
       "      <th>...</th>\n",
       "      <td>...</td>\n",
       "      <td>...</td>\n",
       "      <td>...</td>\n",
       "    </tr>\n",
       "    <tr>\n",
       "      <th>899158</th>\n",
       "      <td>79000.0</td>\n",
       "      <td>63200.0</td>\n",
       "      <td>84</td>\n",
       "    </tr>\n",
       "    <tr>\n",
       "      <th>899160</th>\n",
       "      <td>85000.0</td>\n",
       "      <td>42500.0</td>\n",
       "      <td>60</td>\n",
       "    </tr>\n",
       "    <tr>\n",
       "      <th>899161</th>\n",
       "      <td>300000.0</td>\n",
       "      <td>225000.0</td>\n",
       "      <td>108</td>\n",
       "    </tr>\n",
       "    <tr>\n",
       "      <th>899162</th>\n",
       "      <td>75000.0</td>\n",
       "      <td>60000.0</td>\n",
       "      <td>60</td>\n",
       "    </tr>\n",
       "    <tr>\n",
       "      <th>899163</th>\n",
       "      <td>30000.0</td>\n",
       "      <td>24000.0</td>\n",
       "      <td>48</td>\n",
       "    </tr>\n",
       "  </tbody>\n",
       "</table>\n",
       "<p>610195 rows × 3 columns</p>\n",
       "</div>"
      ],
      "text/plain": [
       "        gross_loan  SBA_loan  Term\n",
       "0          60000.0   48000.0    84\n",
       "1          40000.0   32000.0    60\n",
       "2         287000.0  215250.0   180\n",
       "3          35000.0   28000.0    60\n",
       "4         229000.0  229000.0   240\n",
       "...            ...       ...   ...\n",
       "899158     79000.0   63200.0    84\n",
       "899160     85000.0   42500.0    60\n",
       "899161    300000.0  225000.0   108\n",
       "899162     75000.0   60000.0    60\n",
       "899163     30000.0   24000.0    48\n",
       "\n",
       "[610195 rows x 3 columns]"
      ]
     },
     "execution_count": 80,
     "metadata": {},
     "output_type": "execute_result"
    }
   ],
   "source": [
    "df_model.iloc[:,-3:]"
   ]
  },
  {
   "cell_type": "markdown",
   "metadata": {},
   "source": [
    "### Change target value to integers\n",
    "#### 1 is more likely to pay in full\n",
    "#### 0 is more likely to default in loan"
   ]
  },
  {
   "cell_type": "code",
   "execution_count": 81,
   "metadata": {},
   "outputs": [
    {
     "name": "stderr",
     "output_type": "stream",
     "text": [
      "/opt/anaconda3/lib/python3.8/site-packages/pandas/core/indexing.py:966: SettingWithCopyWarning: \n",
      "A value is trying to be set on a copy of a slice from a DataFrame.\n",
      "Try using .loc[row_indexer,col_indexer] = value instead\n",
      "\n",
      "See the caveats in the documentation: https://pandas.pydata.org/pandas-docs/stable/user_guide/indexing.html#returning-a-view-versus-a-copy\n",
      "  self.obj[item] = s\n"
     ]
    }
   ],
   "source": [
    "df_model.loc[df_model['MIS_Status'] == 'P I F', 'MIS_Status'] = 1\n",
    "df_model.loc[df_model['MIS_Status'] == 'CHGOFF', 'MIS_Status'] = 0"
   ]
  },
  {
   "cell_type": "code",
   "execution_count": 83,
   "metadata": {},
   "outputs": [
    {
     "name": "stderr",
     "output_type": "stream",
     "text": [
      "/opt/anaconda3/lib/python3.8/site-packages/pandas/core/indexing.py:966: SettingWithCopyWarning: \n",
      "A value is trying to be set on a copy of a slice from a DataFrame.\n",
      "Try using .loc[row_indexer,col_indexer] = value instead\n",
      "\n",
      "See the caveats in the documentation: https://pandas.pydata.org/pandas-docs/stable/user_guide/indexing.html#returning-a-view-versus-a-copy\n",
      "  self.obj[item] = s\n"
     ]
    }
   ],
   "source": [
    "df_model.loc[df_model['Sector'] == 'Unknown', 'Sector'] = 'Other services'"
   ]
  },
  {
   "cell_type": "markdown",
   "metadata": {},
   "source": [
    "## Feature Scaling of numeric values"
   ]
  },
  {
   "cell_type": "code",
   "execution_count": 84,
   "metadata": {},
   "outputs": [],
   "source": [
    "from sklearn.preprocessing import StandardScaler\n",
    "\n",
    "scaler = StandardScaler()\n",
    "df_model_scaled = scaler.fit_transform(df_model.iloc[:,-3:])"
   ]
  },
  {
   "cell_type": "code",
   "execution_count": 85,
   "metadata": {},
   "outputs": [
    {
     "data": {
      "text/plain": [
       "array([[-0.43258127, -0.4089683 , -0.27976628],\n",
       "       [-0.51020292, -0.484938  , -0.59744458],\n",
       "       [ 0.4484244 ,  0.38515243,  0.99094688],\n",
       "       ...,\n",
       "       [ 0.49887847,  0.43144646,  0.03791201],\n",
       "       [-0.37436504, -0.35199103, -0.59744458],\n",
       "       [-0.54901374, -0.52292284, -0.75628372]])"
      ]
     },
     "execution_count": 85,
     "metadata": {},
     "output_type": "execute_result"
    }
   ],
   "source": [
    "df_model_scaled"
   ]
  },
  {
   "cell_type": "code",
   "execution_count": 86,
   "metadata": {},
   "outputs": [
    {
     "name": "stderr",
     "output_type": "stream",
     "text": [
      "/opt/anaconda3/lib/python3.8/site-packages/pandas/core/indexing.py:966: SettingWithCopyWarning: \n",
      "A value is trying to be set on a copy of a slice from a DataFrame.\n",
      "Try using .loc[row_indexer,col_indexer] = value instead\n",
      "\n",
      "See the caveats in the documentation: https://pandas.pydata.org/pandas-docs/stable/user_guide/indexing.html#returning-a-view-versus-a-copy\n",
      "  self.obj[item] = s\n"
     ]
    }
   ],
   "source": [
    "df_model.iloc[:,-3:] = df_model_scaled"
   ]
  },
  {
   "cell_type": "markdown",
   "metadata": {},
   "source": [
    "## Encode categorical values"
   ]
  },
  {
   "cell_type": "code",
   "execution_count": 87,
   "metadata": {},
   "outputs": [],
   "source": [
    "df_copy = pd.get_dummies(df_model, columns=['NewExist', 'is_franchise', 'UrbanRural','RevLineCr', 'LowDoc',\n",
    "                 'Sector', 'same_state_loan'])"
   ]
  },
  {
   "cell_type": "code",
   "execution_count": 88,
   "metadata": {},
   "outputs": [
    {
     "data": {
      "text/html": [
       "<div>\n",
       "<style scoped>\n",
       "    .dataframe tbody tr th:only-of-type {\n",
       "        vertical-align: middle;\n",
       "    }\n",
       "\n",
       "    .dataframe tbody tr th {\n",
       "        vertical-align: top;\n",
       "    }\n",
       "\n",
       "    .dataframe thead th {\n",
       "        text-align: right;\n",
       "    }\n",
       "</style>\n",
       "<table border=\"1\" class=\"dataframe\">\n",
       "  <thead>\n",
       "    <tr style=\"text-align: right;\">\n",
       "      <th></th>\n",
       "      <th>MIS_Status</th>\n",
       "      <th>gross_loan</th>\n",
       "      <th>SBA_loan</th>\n",
       "      <th>Term</th>\n",
       "      <th>NewExist_1.0</th>\n",
       "      <th>NewExist_2.0</th>\n",
       "      <th>is_franchise_False</th>\n",
       "      <th>is_franchise_True</th>\n",
       "      <th>UrbanRural_0</th>\n",
       "      <th>UrbanRural_1</th>\n",
       "      <th>...</th>\n",
       "      <th>Sector_Other services</th>\n",
       "      <th>Sector_Professional, scientific, and technical services</th>\n",
       "      <th>Sector_Public administration</th>\n",
       "      <th>Sector_Real estate, rental and leasing</th>\n",
       "      <th>Sector_Retail trade</th>\n",
       "      <th>Sector_Transportation and Warehousing</th>\n",
       "      <th>Sector_Utilities</th>\n",
       "      <th>Sector_Wholesale Trade</th>\n",
       "      <th>same_state_loan_False</th>\n",
       "      <th>same_state_loan_True</th>\n",
       "    </tr>\n",
       "  </thead>\n",
       "  <tbody>\n",
       "    <tr>\n",
       "      <th>0</th>\n",
       "      <td>1</td>\n",
       "      <td>-0.432581</td>\n",
       "      <td>-0.408968</td>\n",
       "      <td>-0.279766</td>\n",
       "      <td>0</td>\n",
       "      <td>1</td>\n",
       "      <td>1</td>\n",
       "      <td>0</td>\n",
       "      <td>1</td>\n",
       "      <td>0</td>\n",
       "      <td>...</td>\n",
       "      <td>0</td>\n",
       "      <td>0</td>\n",
       "      <td>0</td>\n",
       "      <td>0</td>\n",
       "      <td>1</td>\n",
       "      <td>0</td>\n",
       "      <td>0</td>\n",
       "      <td>0</td>\n",
       "      <td>1</td>\n",
       "      <td>0</td>\n",
       "    </tr>\n",
       "    <tr>\n",
       "      <th>1</th>\n",
       "      <td>1</td>\n",
       "      <td>-0.510203</td>\n",
       "      <td>-0.484938</td>\n",
       "      <td>-0.597445</td>\n",
       "      <td>0</td>\n",
       "      <td>1</td>\n",
       "      <td>1</td>\n",
       "      <td>0</td>\n",
       "      <td>1</td>\n",
       "      <td>0</td>\n",
       "      <td>...</td>\n",
       "      <td>0</td>\n",
       "      <td>0</td>\n",
       "      <td>0</td>\n",
       "      <td>0</td>\n",
       "      <td>0</td>\n",
       "      <td>0</td>\n",
       "      <td>0</td>\n",
       "      <td>0</td>\n",
       "      <td>0</td>\n",
       "      <td>1</td>\n",
       "    </tr>\n",
       "    <tr>\n",
       "      <th>2</th>\n",
       "      <td>1</td>\n",
       "      <td>0.448424</td>\n",
       "      <td>0.385152</td>\n",
       "      <td>0.990947</td>\n",
       "      <td>1</td>\n",
       "      <td>0</td>\n",
       "      <td>1</td>\n",
       "      <td>0</td>\n",
       "      <td>1</td>\n",
       "      <td>0</td>\n",
       "      <td>...</td>\n",
       "      <td>0</td>\n",
       "      <td>0</td>\n",
       "      <td>0</td>\n",
       "      <td>0</td>\n",
       "      <td>0</td>\n",
       "      <td>0</td>\n",
       "      <td>0</td>\n",
       "      <td>0</td>\n",
       "      <td>0</td>\n",
       "      <td>1</td>\n",
       "    </tr>\n",
       "    <tr>\n",
       "      <th>3</th>\n",
       "      <td>1</td>\n",
       "      <td>-0.529608</td>\n",
       "      <td>-0.503930</td>\n",
       "      <td>-0.597445</td>\n",
       "      <td>1</td>\n",
       "      <td>0</td>\n",
       "      <td>1</td>\n",
       "      <td>0</td>\n",
       "      <td>1</td>\n",
       "      <td>0</td>\n",
       "      <td>...</td>\n",
       "      <td>1</td>\n",
       "      <td>0</td>\n",
       "      <td>0</td>\n",
       "      <td>0</td>\n",
       "      <td>0</td>\n",
       "      <td>0</td>\n",
       "      <td>0</td>\n",
       "      <td>0</td>\n",
       "      <td>0</td>\n",
       "      <td>1</td>\n",
       "    </tr>\n",
       "    <tr>\n",
       "      <th>4</th>\n",
       "      <td>1</td>\n",
       "      <td>0.223322</td>\n",
       "      <td>0.450439</td>\n",
       "      <td>1.785143</td>\n",
       "      <td>1</td>\n",
       "      <td>0</td>\n",
       "      <td>1</td>\n",
       "      <td>0</td>\n",
       "      <td>1</td>\n",
       "      <td>0</td>\n",
       "      <td>...</td>\n",
       "      <td>1</td>\n",
       "      <td>0</td>\n",
       "      <td>0</td>\n",
       "      <td>0</td>\n",
       "      <td>0</td>\n",
       "      <td>0</td>\n",
       "      <td>0</td>\n",
       "      <td>0</td>\n",
       "      <td>0</td>\n",
       "      <td>1</td>\n",
       "    </tr>\n",
       "  </tbody>\n",
       "</table>\n",
       "<p>5 rows × 36 columns</p>\n",
       "</div>"
      ],
      "text/plain": [
       "  MIS_Status  gross_loan  SBA_loan      Term  NewExist_1.0  NewExist_2.0  \\\n",
       "0          1   -0.432581 -0.408968 -0.279766             0             1   \n",
       "1          1   -0.510203 -0.484938 -0.597445             0             1   \n",
       "2          1    0.448424  0.385152  0.990947             1             0   \n",
       "3          1   -0.529608 -0.503930 -0.597445             1             0   \n",
       "4          1    0.223322  0.450439  1.785143             1             0   \n",
       "\n",
       "   is_franchise_False  is_franchise_True  UrbanRural_0  UrbanRural_1  ...  \\\n",
       "0                   1                  0             1             0  ...   \n",
       "1                   1                  0             1             0  ...   \n",
       "2                   1                  0             1             0  ...   \n",
       "3                   1                  0             1             0  ...   \n",
       "4                   1                  0             1             0  ...   \n",
       "\n",
       "   Sector_Other services  \\\n",
       "0                      0   \n",
       "1                      0   \n",
       "2                      0   \n",
       "3                      1   \n",
       "4                      1   \n",
       "\n",
       "   Sector_Professional, scientific, and technical services  \\\n",
       "0                                                  0         \n",
       "1                                                  0         \n",
       "2                                                  0         \n",
       "3                                                  0         \n",
       "4                                                  0         \n",
       "\n",
       "   Sector_Public administration  Sector_Real estate, rental and leasing  \\\n",
       "0                             0                                       0   \n",
       "1                             0                                       0   \n",
       "2                             0                                       0   \n",
       "3                             0                                       0   \n",
       "4                             0                                       0   \n",
       "\n",
       "   Sector_Retail trade  Sector_Transportation and Warehousing  \\\n",
       "0                    1                                      0   \n",
       "1                    0                                      0   \n",
       "2                    0                                      0   \n",
       "3                    0                                      0   \n",
       "4                    0                                      0   \n",
       "\n",
       "   Sector_Utilities  Sector_Wholesale Trade  same_state_loan_False  \\\n",
       "0                 0                       0                      1   \n",
       "1                 0                       0                      0   \n",
       "2                 0                       0                      0   \n",
       "3                 0                       0                      0   \n",
       "4                 0                       0                      0   \n",
       "\n",
       "   same_state_loan_True  \n",
       "0                     0  \n",
       "1                     1  \n",
       "2                     1  \n",
       "3                     1  \n",
       "4                     1  \n",
       "\n",
       "[5 rows x 36 columns]"
      ]
     },
     "execution_count": 88,
     "metadata": {},
     "output_type": "execute_result"
    }
   ],
   "source": [
    "df_copy.head()"
   ]
  },
  {
   "cell_type": "code",
   "execution_count": 98,
   "metadata": {},
   "outputs": [],
   "source": [
    "df_copy['MIS_Status'] = df_copy['MIS_Status'].astype('int')"
   ]
  },
  {
   "cell_type": "code",
   "execution_count": 100,
   "metadata": {},
   "outputs": [],
   "source": [
    "from sklearn.model_selection import train_test_split\n",
    "\n",
    "X = df_copy.drop('MIS_Status', axis=1)\n",
    "y = df_copy['MIS_Status'].values\n",
    "\n",
    "X_train, X_test, y_train, y_test = train_test_split(X, y, test_size=0.20, random_state=42)"
   ]
  },
  {
   "cell_type": "markdown",
   "metadata": {},
   "source": [
    "## Models\n",
    "1. Logistic Regression\n",
    "2. Support Vector Machine Classifier\n",
    "3. Random Forest Classifier\n",
    "\n",
    "### Evaluation\n",
    "1. Cross Validation Score\n",
    "2. Precision\n",
    "3. Recall\n",
    "4. f1-score (average of precision and recall)"
   ]
  },
  {
   "cell_type": "markdown",
   "metadata": {},
   "source": [
    "## Logistic Regresssion"
   ]
  },
  {
   "cell_type": "code",
   "execution_count": 101,
   "metadata": {},
   "outputs": [],
   "source": [
    "from sklearn.linear_model import LogisticRegression\n",
    "from sklearn.model_selection import cross_val_score\n",
    "\n",
    "log_reg = LogisticRegression(max_iter=2000)"
   ]
  },
  {
   "cell_type": "code",
   "execution_count": 102,
   "metadata": {},
   "outputs": [
    {
     "data": {
      "text/plain": [
       "0.8517645986773695"
      ]
     },
     "execution_count": 102,
     "metadata": {},
     "output_type": "execute_result"
    }
   ],
   "source": [
    "np.mean(cross_val_score(log_reg, X_train, y_train, cv=3))"
   ]
  },
  {
   "cell_type": "code",
   "execution_count": 103,
   "metadata": {},
   "outputs": [
    {
     "data": {
      "text/plain": [
       "LogisticRegression(max_iter=2000)"
      ]
     },
     "execution_count": 103,
     "metadata": {},
     "output_type": "execute_result"
    }
   ],
   "source": [
    "log_reg.fit(X_train, y_train)"
   ]
  },
  {
   "cell_type": "code",
   "execution_count": 104,
   "metadata": {},
   "outputs": [],
   "source": [
    "log_pred = log_reg.predict(X_test)"
   ]
  },
  {
   "cell_type": "code",
   "execution_count": 105,
   "metadata": {},
   "outputs": [
    {
     "data": {
      "text/plain": [
       "0.8652328281974391"
      ]
     },
     "execution_count": 105,
     "metadata": {},
     "output_type": "execute_result"
    }
   ],
   "source": [
    "from sklearn.metrics import precision_score, recall_score\n",
    "\n",
    "precision_score(y_test, log_pred)"
   ]
  },
  {
   "cell_type": "code",
   "execution_count": 106,
   "metadata": {},
   "outputs": [
    {
     "data": {
      "text/plain": [
       "0.9724080685647996"
      ]
     },
     "execution_count": 106,
     "metadata": {},
     "output_type": "execute_result"
    }
   ],
   "source": [
    "recall_score(y_test, log_pred)"
   ]
  },
  {
   "cell_type": "code",
   "execution_count": 107,
   "metadata": {},
   "outputs": [
    {
     "data": {
      "text/plain": [
       "0.9156951010491026"
      ]
     },
     "execution_count": 107,
     "metadata": {},
     "output_type": "execute_result"
    }
   ],
   "source": [
    "from sklearn.metrics import f1_score\n",
    "\n",
    "f1_score(y_test, log_pred)"
   ]
  },
  {
   "cell_type": "markdown",
   "metadata": {},
   "source": [
    "## Support Vector Machine Classifier"
   ]
  },
  {
   "cell_type": "code",
   "execution_count": 108,
   "metadata": {},
   "outputs": [],
   "source": [
    "from sklearn.svm import LinearSVC\n",
    "\n",
    "svc_model = LinearSVC(C=1, loss='hinge')"
   ]
  },
  {
   "cell_type": "code",
   "execution_count": 109,
   "metadata": {},
   "outputs": [
    {
     "data": {
      "text/plain": [
       "0.8186911561085098"
      ]
     },
     "execution_count": 109,
     "metadata": {},
     "output_type": "execute_result"
    }
   ],
   "source": [
    "np.mean(cross_val_score(svc_model, X_train, y_train, cv=3))"
   ]
  },
  {
   "cell_type": "code",
   "execution_count": 110,
   "metadata": {},
   "outputs": [
    {
     "data": {
      "text/plain": [
       "LinearSVC(C=1, loss='hinge')"
      ]
     },
     "execution_count": 110,
     "metadata": {},
     "output_type": "execute_result"
    }
   ],
   "source": [
    "svc_model.fit(X_train, y_train)"
   ]
  },
  {
   "cell_type": "code",
   "execution_count": 111,
   "metadata": {},
   "outputs": [],
   "source": [
    "svc_pred = svc_model.predict(X_test)"
   ]
  },
  {
   "cell_type": "code",
   "execution_count": 112,
   "metadata": {},
   "outputs": [
    {
     "data": {
      "text/plain": [
       "0.8193528298330861"
      ]
     },
     "execution_count": 112,
     "metadata": {},
     "output_type": "execute_result"
    }
   ],
   "source": [
    "precision_score(y_test, svc_pred)"
   ]
  },
  {
   "cell_type": "code",
   "execution_count": 113,
   "metadata": {},
   "outputs": [
    {
     "data": {
      "text/plain": [
       "1.0"
      ]
     },
     "execution_count": 113,
     "metadata": {},
     "output_type": "execute_result"
    }
   ],
   "source": [
    "recall_score(y_test, svc_pred)"
   ]
  },
  {
   "cell_type": "code",
   "execution_count": 114,
   "metadata": {},
   "outputs": [
    {
     "data": {
      "text/plain": [
       "0.9007080060531815"
      ]
     },
     "execution_count": 114,
     "metadata": {},
     "output_type": "execute_result"
    }
   ],
   "source": [
    "f1_score(y_test, svc_pred)"
   ]
  },
  {
   "cell_type": "markdown",
   "metadata": {},
   "source": [
    "## Random Forest Classifier"
   ]
  },
  {
   "cell_type": "code",
   "execution_count": 115,
   "metadata": {},
   "outputs": [],
   "source": [
    "from sklearn.ensemble import RandomForestClassifier\n",
    "\n",
    "forest_model = RandomForestClassifier()"
   ]
  },
  {
   "cell_type": "code",
   "execution_count": 116,
   "metadata": {},
   "outputs": [
    {
     "data": {
      "text/plain": [
       "0.9206339782706996"
      ]
     },
     "execution_count": 116,
     "metadata": {},
     "output_type": "execute_result"
    }
   ],
   "source": [
    "np.mean(cross_val_score(forest_model, X_train, y_train, cv=3))"
   ]
  },
  {
   "cell_type": "code",
   "execution_count": 117,
   "metadata": {},
   "outputs": [
    {
     "data": {
      "text/plain": [
       "RandomForestClassifier()"
      ]
     },
     "execution_count": 117,
     "metadata": {},
     "output_type": "execute_result"
    }
   ],
   "source": [
    "forest_model.fit(X_train, y_train)"
   ]
  },
  {
   "cell_type": "code",
   "execution_count": 118,
   "metadata": {},
   "outputs": [],
   "source": [
    "forest_pred = forest_model.predict(X_test)"
   ]
  },
  {
   "cell_type": "code",
   "execution_count": 119,
   "metadata": {},
   "outputs": [
    {
     "data": {
      "text/plain": [
       "0.9417292501653761"
      ]
     },
     "execution_count": 119,
     "metadata": {},
     "output_type": "execute_result"
    }
   ],
   "source": [
    "precision_score(y_test, forest_pred)"
   ]
  },
  {
   "cell_type": "code",
   "execution_count": 120,
   "metadata": {},
   "outputs": [
    {
     "data": {
      "text/plain": [
       "0.968127768943826"
      ]
     },
     "execution_count": 120,
     "metadata": {},
     "output_type": "execute_result"
    }
   ],
   "source": [
    "recall_score(y_test, forest_pred)"
   ]
  },
  {
   "cell_type": "code",
   "execution_count": 121,
   "metadata": {},
   "outputs": [
    {
     "data": {
      "text/plain": [
       "0.9547460661081222"
      ]
     },
     "execution_count": 121,
     "metadata": {},
     "output_type": "execute_result"
    }
   ],
   "source": [
    "f1_score(y_test, forest_pred)"
   ]
  },
  {
   "cell_type": "markdown",
   "metadata": {},
   "source": [
    "### Random Forest Classifier performed the best in terms of precision, recall, and accuracy"
   ]
  },
  {
   "cell_type": "markdown",
   "metadata": {},
   "source": [
    "## Feature importance"
   ]
  },
  {
   "cell_type": "code",
   "execution_count": 122,
   "metadata": {},
   "outputs": [],
   "source": [
    "def feature_importance(model, data):\n",
    "    fea_imp = pd.DataFrame({'imp': model.feature_importances_, 'col': data.columns})\n",
    "    fea_imp = fea_imp.sort_values(['imp', 'col'], ascending=[True, False]).iloc[-30:]\n",
    "    _ = fea_imp.plot(kind='barh', x='col', y='imp', figsize=(20, 10))\n",
    "    return fea_imp"
   ]
  },
  {
   "cell_type": "code",
   "execution_count": 123,
   "metadata": {},
   "outputs": [
    {
     "data": {
      "text/html": [
       "<div>\n",
       "<style scoped>\n",
       "    .dataframe tbody tr th:only-of-type {\n",
       "        vertical-align: middle;\n",
       "    }\n",
       "\n",
       "    .dataframe tbody tr th {\n",
       "        vertical-align: top;\n",
       "    }\n",
       "\n",
       "    .dataframe thead th {\n",
       "        text-align: right;\n",
       "    }\n",
       "</style>\n",
       "<table border=\"1\" class=\"dataframe\">\n",
       "  <thead>\n",
       "    <tr style=\"text-align: right;\">\n",
       "      <th></th>\n",
       "      <th>imp</th>\n",
       "      <th>col</th>\n",
       "    </tr>\n",
       "  </thead>\n",
       "  <tbody>\n",
       "    <tr>\n",
       "      <th>20</th>\n",
       "      <td>0.001163</td>\n",
       "      <td>Sector_Finance and Insurance</td>\n",
       "    </tr>\n",
       "    <tr>\n",
       "      <th>6</th>\n",
       "      <td>0.001450</td>\n",
       "      <td>is_franchise_True</td>\n",
       "    </tr>\n",
       "    <tr>\n",
       "      <th>5</th>\n",
       "      <td>0.001456</td>\n",
       "      <td>is_franchise_False</td>\n",
       "    </tr>\n",
       "    <tr>\n",
       "      <th>17</th>\n",
       "      <td>0.001499</td>\n",
       "      <td>Sector_Arts, entertainment, and recreation</td>\n",
       "    </tr>\n",
       "    <tr>\n",
       "      <th>16</th>\n",
       "      <td>0.001626</td>\n",
       "      <td>Sector_Agriculture, forestry, fishing and hunting</td>\n",
       "    </tr>\n",
       "    <tr>\n",
       "      <th>15</th>\n",
       "      <td>0.001977</td>\n",
       "      <td>Sector_Administrative  support and waste manag...</td>\n",
       "    </tr>\n",
       "    <tr>\n",
       "      <th>28</th>\n",
       "      <td>0.001988</td>\n",
       "      <td>Sector_Real estate, rental and leasing</td>\n",
       "    </tr>\n",
       "    <tr>\n",
       "      <th>30</th>\n",
       "      <td>0.002072</td>\n",
       "      <td>Sector_Transportation and Warehousing</td>\n",
       "    </tr>\n",
       "    <tr>\n",
       "      <th>12</th>\n",
       "      <td>0.002158</td>\n",
       "      <td>LowDoc_N</td>\n",
       "    </tr>\n",
       "    <tr>\n",
       "      <th>32</th>\n",
       "      <td>0.002459</td>\n",
       "      <td>Sector_Wholesale Trade</td>\n",
       "    </tr>\n",
       "    <tr>\n",
       "      <th>26</th>\n",
       "      <td>0.002557</td>\n",
       "      <td>Sector_Professional, scientific, and technical...</td>\n",
       "    </tr>\n",
       "    <tr>\n",
       "      <th>23</th>\n",
       "      <td>0.002583</td>\n",
       "      <td>Sector_Manufacturing</td>\n",
       "    </tr>\n",
       "    <tr>\n",
       "      <th>13</th>\n",
       "      <td>0.002676</td>\n",
       "      <td>LowDoc_Y</td>\n",
       "    </tr>\n",
       "    <tr>\n",
       "      <th>18</th>\n",
       "      <td>0.002753</td>\n",
       "      <td>Sector_Construction</td>\n",
       "    </tr>\n",
       "    <tr>\n",
       "      <th>14</th>\n",
       "      <td>0.003078</td>\n",
       "      <td>Sector_Accommodation and food services</td>\n",
       "    </tr>\n",
       "    <tr>\n",
       "      <th>21</th>\n",
       "      <td>0.003306</td>\n",
       "      <td>Sector_Health care and social assistance</td>\n",
       "    </tr>\n",
       "    <tr>\n",
       "      <th>3</th>\n",
       "      <td>0.003771</td>\n",
       "      <td>NewExist_1.0</td>\n",
       "    </tr>\n",
       "    <tr>\n",
       "      <th>29</th>\n",
       "      <td>0.003783</td>\n",
       "      <td>Sector_Retail trade</td>\n",
       "    </tr>\n",
       "    <tr>\n",
       "      <th>4</th>\n",
       "      <td>0.003799</td>\n",
       "      <td>NewExist_2.0</td>\n",
       "    </tr>\n",
       "    <tr>\n",
       "      <th>9</th>\n",
       "      <td>0.004403</td>\n",
       "      <td>UrbanRural_2</td>\n",
       "    </tr>\n",
       "    <tr>\n",
       "      <th>25</th>\n",
       "      <td>0.005596</td>\n",
       "      <td>Sector_Other services</td>\n",
       "    </tr>\n",
       "    <tr>\n",
       "      <th>10</th>\n",
       "      <td>0.006727</td>\n",
       "      <td>RevLineCr_N</td>\n",
       "    </tr>\n",
       "    <tr>\n",
       "      <th>11</th>\n",
       "      <td>0.007884</td>\n",
       "      <td>RevLineCr_Y</td>\n",
       "    </tr>\n",
       "    <tr>\n",
       "      <th>33</th>\n",
       "      <td>0.016454</td>\n",
       "      <td>same_state_loan_False</td>\n",
       "    </tr>\n",
       "    <tr>\n",
       "      <th>34</th>\n",
       "      <td>0.018962</td>\n",
       "      <td>same_state_loan_True</td>\n",
       "    </tr>\n",
       "    <tr>\n",
       "      <th>8</th>\n",
       "      <td>0.021119</td>\n",
       "      <td>UrbanRural_1</td>\n",
       "    </tr>\n",
       "    <tr>\n",
       "      <th>7</th>\n",
       "      <td>0.024997</td>\n",
       "      <td>UrbanRural_0</td>\n",
       "    </tr>\n",
       "    <tr>\n",
       "      <th>0</th>\n",
       "      <td>0.104068</td>\n",
       "      <td>gross_loan</td>\n",
       "    </tr>\n",
       "    <tr>\n",
       "      <th>1</th>\n",
       "      <td>0.120073</td>\n",
       "      <td>SBA_loan</td>\n",
       "    </tr>\n",
       "    <tr>\n",
       "      <th>2</th>\n",
       "      <td>0.621759</td>\n",
       "      <td>Term</td>\n",
       "    </tr>\n",
       "  </tbody>\n",
       "</table>\n",
       "</div>"
      ],
      "text/plain": [
       "         imp                                                col\n",
       "20  0.001163                       Sector_Finance and Insurance\n",
       "6   0.001450                                  is_franchise_True\n",
       "5   0.001456                                 is_franchise_False\n",
       "17  0.001499         Sector_Arts, entertainment, and recreation\n",
       "16  0.001626  Sector_Agriculture, forestry, fishing and hunting\n",
       "15  0.001977  Sector_Administrative  support and waste manag...\n",
       "28  0.001988             Sector_Real estate, rental and leasing\n",
       "30  0.002072              Sector_Transportation and Warehousing\n",
       "12  0.002158                                           LowDoc_N\n",
       "32  0.002459                             Sector_Wholesale Trade\n",
       "26  0.002557  Sector_Professional, scientific, and technical...\n",
       "23  0.002583                               Sector_Manufacturing\n",
       "13  0.002676                                           LowDoc_Y\n",
       "18  0.002753                                Sector_Construction\n",
       "14  0.003078             Sector_Accommodation and food services\n",
       "21  0.003306           Sector_Health care and social assistance\n",
       "3   0.003771                                       NewExist_1.0\n",
       "29  0.003783                                Sector_Retail trade\n",
       "4   0.003799                                       NewExist_2.0\n",
       "9   0.004403                                       UrbanRural_2\n",
       "25  0.005596                              Sector_Other services\n",
       "10  0.006727                                        RevLineCr_N\n",
       "11  0.007884                                        RevLineCr_Y\n",
       "33  0.016454                              same_state_loan_False\n",
       "34  0.018962                               same_state_loan_True\n",
       "8   0.021119                                       UrbanRural_1\n",
       "7   0.024997                                       UrbanRural_0\n",
       "0   0.104068                                         gross_loan\n",
       "1   0.120073                                           SBA_loan\n",
       "2   0.621759                                               Term"
      ]
     },
     "execution_count": 123,
     "metadata": {},
     "output_type": "execute_result"
    },
    {
     "data": {
      "image/png": "[encoded data removed]",
      "text/plain": [
       "<Figure size 1440x720 with 1 Axes>"
      ]
     },
     "metadata": {
      "needs_background": "light"
     },
     "output_type": "display_data"
    }
   ],
   "source": [
    "feature_importance(forest_model, X_train)"
   ]
  },
  {
   "cell_type": "markdown",
   "metadata": {},
   "source": [
    "## Findings\n",
    "Based on the Random Forest Classifier, the top features that had the highest contribution to classifying if a loan would be paid in full or charged off consist of the term loan, amount, if the lender and borrower are in the same state, if it was a new or existing business, if it was a revolving line of credit loan, if it was an urban or rural business, and various business sectors."
   ]
  },
  {
   "cell_type": "code",
   "execution_count": null,
   "metadata": {},
   "outputs": [],
   "source": []
  }
 ],
 "metadata": {
  "kernelspec": {
   "display_name": "Python 3",
   "language": "python",
   "name": "python3"
  },
  "language_info": {
   "codemirror_mode": {
    "name": "ipython",
    "version": 3
   },
   "file_extension": ".py",
   "mimetype": "text/x-python",
   "name": "python",
   "nbconvert_exporter": "python",
   "pygments_lexer": "ipython3",
   "version": "3.8.3"
  }
 },
 "nbformat": 4,
 "nbformat_minor": 4
}
